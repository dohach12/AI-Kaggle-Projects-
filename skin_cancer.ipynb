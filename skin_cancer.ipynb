{
 "cells": [
  {
   "cell_type": "markdown",
   "id": "1d246b2a",
   "metadata": {
    "papermill": {
     "duration": 0.004748,
     "end_time": "2025-05-11T03:27:07.687029",
     "exception": false,
     "start_time": "2025-05-11T03:27:07.682281",
     "status": "completed"
    },
    "tags": []
   },
   "source": []
  },
  {
   "cell_type": "markdown",
   "id": "a0ae094f",
   "metadata": {
    "papermill": {
     "duration": 0.003853,
     "end_time": "2025-05-11T03:27:07.694969",
     "exception": false,
     "start_time": "2025-05-11T03:27:07.691116",
     "status": "completed"
    },
    "tags": []
   },
   "source": [
    "# librairies"
   ]
  },
  {
   "cell_type": "code",
   "execution_count": 1,
   "id": "14afe546",
   "metadata": {
    "execution": {
     "iopub.execute_input": "2025-05-11T03:27:07.704743Z",
     "iopub.status.busy": "2025-05-11T03:27:07.704457Z",
     "iopub.status.idle": "2025-05-11T03:28:12.206204Z",
     "shell.execute_reply": "2025-05-11T03:28:12.205113Z"
    },
    "papermill": {
     "duration": 64.509335,
     "end_time": "2025-05-11T03:28:12.208184",
     "exception": false,
     "start_time": "2025-05-11T03:27:07.698849",
     "status": "completed"
    },
    "tags": []
   },
   "outputs": [
    {
     "name": "stdout",
     "output_type": "stream",
     "text": [
      "Collecting tensorflow==2.13.0\r\n",
      "  Downloading tensorflow-2.13.0-cp311-cp311-manylinux_2_17_x86_64.manylinux2014_x86_64.whl.metadata (3.4 kB)\r\n",
      "Requirement already satisfied: absl-py>=1.0.0 in /usr/local/lib/python3.11/dist-packages (from tensorflow==2.13.0) (1.4.0)\r\n",
      "Requirement already satisfied: astunparse>=1.6.0 in /usr/local/lib/python3.11/dist-packages (from tensorflow==2.13.0) (1.6.3)\r\n",
      "Requirement already satisfied: flatbuffers>=23.1.21 in /usr/local/lib/python3.11/dist-packages (from tensorflow==2.13.0) (25.2.10)\r\n",
      "Collecting gast<=0.4.0,>=0.2.1 (from tensorflow==2.13.0)\r\n",
      "  Downloading gast-0.4.0-py3-none-any.whl.metadata (1.1 kB)\r\n",
      "Requirement already satisfied: google-pasta>=0.1.1 in /usr/local/lib/python3.11/dist-packages (from tensorflow==2.13.0) (0.2.0)\r\n",
      "Requirement already satisfied: grpcio<2.0,>=1.24.3 in /usr/local/lib/python3.11/dist-packages (from tensorflow==2.13.0) (1.70.0)\r\n",
      "Requirement already satisfied: h5py>=2.9.0 in /usr/local/lib/python3.11/dist-packages (from tensorflow==2.13.0) (3.12.1)\r\n",
      "Collecting keras<2.14,>=2.13.1 (from tensorflow==2.13.0)\r\n",
      "  Downloading keras-2.13.1-py3-none-any.whl.metadata (2.4 kB)\r\n",
      "Requirement already satisfied: libclang>=13.0.0 in /usr/local/lib/python3.11/dist-packages (from tensorflow==2.13.0) (18.1.1)\r\n",
      "Collecting numpy<=1.24.3,>=1.22 (from tensorflow==2.13.0)\r\n",
      "  Downloading numpy-1.24.3-cp311-cp311-manylinux_2_17_x86_64.manylinux2014_x86_64.whl.metadata (5.6 kB)\r\n",
      "Requirement already satisfied: opt-einsum>=2.3.2 in /usr/local/lib/python3.11/dist-packages (from tensorflow==2.13.0) (3.4.0)\r\n",
      "Requirement already satisfied: packaging in /usr/local/lib/python3.11/dist-packages (from tensorflow==2.13.0) (24.2)\r\n",
      "Requirement already satisfied: protobuf!=4.21.0,!=4.21.1,!=4.21.2,!=4.21.3,!=4.21.4,!=4.21.5,<5.0.0dev,>=3.20.3 in /usr/local/lib/python3.11/dist-packages (from tensorflow==2.13.0) (3.20.3)\r\n",
      "Requirement already satisfied: setuptools in /usr/local/lib/python3.11/dist-packages (from tensorflow==2.13.0) (75.1.0)\r\n",
      "Requirement already satisfied: six>=1.12.0 in /usr/local/lib/python3.11/dist-packages (from tensorflow==2.13.0) (1.17.0)\r\n",
      "Collecting tensorboard<2.14,>=2.13 (from tensorflow==2.13.0)\r\n",
      "  Downloading tensorboard-2.13.0-py3-none-any.whl.metadata (1.8 kB)\r\n",
      "Collecting tensorflow-estimator<2.14,>=2.13.0 (from tensorflow==2.13.0)\r\n",
      "  Downloading tensorflow_estimator-2.13.0-py2.py3-none-any.whl.metadata (1.3 kB)\r\n",
      "Requirement already satisfied: termcolor>=1.1.0 in /usr/local/lib/python3.11/dist-packages (from tensorflow==2.13.0) (2.5.0)\r\n",
      "Collecting typing-extensions<4.6.0,>=3.6.6 (from tensorflow==2.13.0)\r\n",
      "  Downloading typing_extensions-4.5.0-py3-none-any.whl.metadata (8.5 kB)\r\n",
      "Requirement already satisfied: wrapt>=1.11.0 in /usr/local/lib/python3.11/dist-packages (from tensorflow==2.13.0) (1.17.2)\r\n",
      "Requirement already satisfied: tensorflow-io-gcs-filesystem>=0.23.1 in /usr/local/lib/python3.11/dist-packages (from tensorflow==2.13.0) (0.37.1)\r\n",
      "Requirement already satisfied: wheel<1.0,>=0.23.0 in /usr/local/lib/python3.11/dist-packages (from astunparse>=1.6.0->tensorflow==2.13.0) (0.45.1)\r\n",
      "Requirement already satisfied: google-auth<3,>=1.6.3 in /usr/local/lib/python3.11/dist-packages (from tensorboard<2.14,>=2.13->tensorflow==2.13.0) (2.27.0)\r\n",
      "Collecting google-auth-oauthlib<1.1,>=0.5 (from tensorboard<2.14,>=2.13->tensorflow==2.13.0)\r\n",
      "  Downloading google_auth_oauthlib-1.0.0-py2.py3-none-any.whl.metadata (2.7 kB)\r\n",
      "Requirement already satisfied: markdown>=2.6.8 in /usr/local/lib/python3.11/dist-packages (from tensorboard<2.14,>=2.13->tensorflow==2.13.0) (3.7)\r\n",
      "Requirement already satisfied: requests<3,>=2.21.0 in /usr/local/lib/python3.11/dist-packages (from tensorboard<2.14,>=2.13->tensorflow==2.13.0) (2.32.3)\r\n",
      "Requirement already satisfied: tensorboard-data-server<0.8.0,>=0.7.0 in /usr/local/lib/python3.11/dist-packages (from tensorboard<2.14,>=2.13->tensorflow==2.13.0) (0.7.2)\r\n",
      "Requirement already satisfied: werkzeug>=1.0.1 in /usr/local/lib/python3.11/dist-packages (from tensorboard<2.14,>=2.13->tensorflow==2.13.0) (3.1.3)\r\n",
      "Requirement already satisfied: cachetools<6.0,>=2.0.0 in /usr/local/lib/python3.11/dist-packages (from google-auth<3,>=1.6.3->tensorboard<2.14,>=2.13->tensorflow==2.13.0) (5.5.2)\r\n",
      "Requirement already satisfied: pyasn1-modules>=0.2.1 in /usr/local/lib/python3.11/dist-packages (from google-auth<3,>=1.6.3->tensorboard<2.14,>=2.13->tensorflow==2.13.0) (0.4.1)\r\n",
      "Requirement already satisfied: rsa<5,>=3.1.4 in /usr/local/lib/python3.11/dist-packages (from google-auth<3,>=1.6.3->tensorboard<2.14,>=2.13->tensorflow==2.13.0) (4.9)\r\n",
      "Requirement already satisfied: requests-oauthlib>=0.7.0 in /usr/local/lib/python3.11/dist-packages (from google-auth-oauthlib<1.1,>=0.5->tensorboard<2.14,>=2.13->tensorflow==2.13.0) (2.0.0)\r\n",
      "Requirement already satisfied: charset-normalizer<4,>=2 in /usr/local/lib/python3.11/dist-packages (from requests<3,>=2.21.0->tensorboard<2.14,>=2.13->tensorflow==2.13.0) (3.4.1)\r\n",
      "Requirement already satisfied: idna<4,>=2.5 in /usr/local/lib/python3.11/dist-packages (from requests<3,>=2.21.0->tensorboard<2.14,>=2.13->tensorflow==2.13.0) (3.10)\r\n",
      "Requirement already satisfied: urllib3<3,>=1.21.1 in /usr/local/lib/python3.11/dist-packages (from requests<3,>=2.21.0->tensorboard<2.14,>=2.13->tensorflow==2.13.0) (2.3.0)\r\n",
      "Requirement already satisfied: certifi>=2017.4.17 in /usr/local/lib/python3.11/dist-packages (from requests<3,>=2.21.0->tensorboard<2.14,>=2.13->tensorflow==2.13.0) (2025.1.31)\r\n",
      "Requirement already satisfied: MarkupSafe>=2.1.1 in /usr/local/lib/python3.11/dist-packages (from werkzeug>=1.0.1->tensorboard<2.14,>=2.13->tensorflow==2.13.0) (3.0.2)\r\n",
      "Requirement already satisfied: pyasn1<0.7.0,>=0.4.6 in /usr/local/lib/python3.11/dist-packages (from pyasn1-modules>=0.2.1->google-auth<3,>=1.6.3->tensorboard<2.14,>=2.13->tensorflow==2.13.0) (0.6.1)\r\n",
      "Requirement already satisfied: oauthlib>=3.0.0 in /usr/local/lib/python3.11/dist-packages (from requests-oauthlib>=0.7.0->google-auth-oauthlib<1.1,>=0.5->tensorboard<2.14,>=2.13->tensorflow==2.13.0) (3.2.2)\r\n",
      "Downloading tensorflow-2.13.0-cp311-cp311-manylinux_2_17_x86_64.manylinux2014_x86_64.whl (524.2 MB)\r\n",
      "\u001b[2K   \u001b[90m━━━━━━━━━━━━━━━━━━━━━━━━━━━━━━━━━━━━━━━━\u001b[0m \u001b[32m524.2/524.2 MB\u001b[0m \u001b[31m3.3 MB/s\u001b[0m eta \u001b[36m0:00:00\u001b[0m\r\n",
      "\u001b[?25hDownloading gast-0.4.0-py3-none-any.whl (9.8 kB)\r\n",
      "Downloading keras-2.13.1-py3-none-any.whl (1.7 MB)\r\n",
      "\u001b[2K   \u001b[90m━━━━━━━━━━━━━━━━━━━━━━━━━━━━━━━━━━━━━━━━\u001b[0m \u001b[32m1.7/1.7 MB\u001b[0m \u001b[31m62.2 MB/s\u001b[0m eta \u001b[36m0:00:00\u001b[0m\r\n",
      "\u001b[?25hDownloading numpy-1.24.3-cp311-cp311-manylinux_2_17_x86_64.manylinux2014_x86_64.whl (17.3 MB)\r\n",
      "\u001b[2K   \u001b[90m━━━━━━━━━━━━━━━━━━━━━━━━━━━━━━━━━━━━━━━━\u001b[0m \u001b[32m17.3/17.3 MB\u001b[0m \u001b[31m92.4 MB/s\u001b[0m eta \u001b[36m0:00:00\u001b[0m\r\n",
      "\u001b[?25hDownloading tensorboard-2.13.0-py3-none-any.whl (5.6 MB)\r\n",
      "\u001b[2K   \u001b[90m━━━━━━━━━━━━━━━━━━━━━━━━━━━━━━━━━━━━━━━━\u001b[0m \u001b[32m5.6/5.6 MB\u001b[0m \u001b[31m106.5 MB/s\u001b[0m eta \u001b[36m0:00:00\u001b[0m\r\n",
      "\u001b[?25hDownloading tensorflow_estimator-2.13.0-py2.py3-none-any.whl (440 kB)\r\n",
      "\u001b[2K   \u001b[90m━━━━━━━━━━━━━━━━━━━━━━━━━━━━━━━━━━━━━━━━\u001b[0m \u001b[32m440.8/440.8 kB\u001b[0m \u001b[31m25.3 MB/s\u001b[0m eta \u001b[36m0:00:00\u001b[0m\r\n",
      "\u001b[?25hDownloading typing_extensions-4.5.0-py3-none-any.whl (27 kB)\r\n",
      "Downloading google_auth_oauthlib-1.0.0-py2.py3-none-any.whl (18 kB)\r\n",
      "Installing collected packages: typing-extensions, tensorflow-estimator, numpy, keras, gast, google-auth-oauthlib, tensorboard, tensorflow\r\n",
      "  Attempting uninstall: typing-extensions\r\n",
      "    Found existing installation: typing_extensions 4.13.1\r\n",
      "    Uninstalling typing_extensions-4.13.1:\r\n",
      "      Successfully uninstalled typing_extensions-4.13.1\r\n",
      "  Attempting uninstall: numpy\r\n",
      "    Found existing installation: numpy 1.26.4\r\n",
      "    Uninstalling numpy-1.26.4:\r\n",
      "      Successfully uninstalled numpy-1.26.4\r\n",
      "  Attempting uninstall: keras\r\n",
      "    Found existing installation: keras 3.5.0\r\n",
      "    Uninstalling keras-3.5.0:\r\n",
      "      Successfully uninstalled keras-3.5.0\r\n",
      "  Attempting uninstall: gast\r\n",
      "    Found existing installation: gast 0.6.0\r\n",
      "    Uninstalling gast-0.6.0:\r\n",
      "      Successfully uninstalled gast-0.6.0\r\n",
      "  Attempting uninstall: google-auth-oauthlib\r\n",
      "    Found existing installation: google-auth-oauthlib 1.2.1\r\n",
      "    Uninstalling google-auth-oauthlib-1.2.1:\r\n",
      "      Successfully uninstalled google-auth-oauthlib-1.2.1\r\n",
      "  Attempting uninstall: tensorboard\r\n",
      "    Found existing installation: tensorboard 2.18.0\r\n",
      "    Uninstalling tensorboard-2.18.0:\r\n",
      "      Successfully uninstalled tensorboard-2.18.0\r\n",
      "  Attempting uninstall: tensorflow\r\n",
      "    Found existing installation: tensorflow 2.18.0\r\n",
      "    Uninstalling tensorflow-2.18.0:\r\n",
      "      Successfully uninstalled tensorflow-2.18.0\r\n",
      "\u001b[31mERROR: pip's dependency resolver does not currently take into account all the packages that are installed. This behaviour is the source of the following dependency conflicts.\r\n",
      "mkl-umath 0.1.1 requires numpy<1.27.0,>=1.26.4, but you have numpy 1.24.3 which is incompatible.\r\n",
      "mkl-random 1.2.4 requires numpy<1.27.0,>=1.26.4, but you have numpy 1.24.3 which is incompatible.\r\n",
      "mkl-fft 1.3.8 requires numpy<1.27.0,>=1.26.4, but you have numpy 1.24.3 which is incompatible.\r\n",
      "typing-inspection 0.4.0 requires typing-extensions>=4.12.0, but you have typing-extensions 4.5.0 which is incompatible.\r\n",
      "pyopenssl 25.0.0 requires typing-extensions>=4.9; python_version < \"3.13\" and python_version >= \"3.8\", but you have typing-extensions 4.5.0 which is incompatible.\r\n",
      "pydantic 2.11.3 requires typing-extensions>=4.12.2, but you have typing-extensions 4.5.0 which is incompatible.\r\n",
      "sigstore 3.6.1 requires rich~=13.0, but you have rich 14.0.0 which is incompatible.\r\n",
      "datasets 3.5.0 requires fsspec[http]<=2024.12.0,>=2023.1.0, but you have fsspec 2025.3.2 which is incompatible.\r\n",
      "pydantic-core 2.33.1 requires typing-extensions!=4.7.0,>=4.6.0, but you have typing-extensions 4.5.0 which is incompatible.\r\n",
      "woodwork 0.31.0 requires numpy>=1.25.0, but you have numpy 1.24.3 which is incompatible.\r\n",
      "featuretools 1.31.0 requires numpy>=1.25.0, but you have numpy 1.24.3 which is incompatible.\r\n",
      "docstring-to-markdown 0.16 requires typing-extensions>=4.6, but you have typing-extensions 4.5.0 which is incompatible.\r\n",
      "tensorflow-decision-forests 1.11.0 requires tensorflow==2.18.0, but you have tensorflow 2.13.0 which is incompatible.\r\n",
      "alembic 1.15.2 requires typing-extensions>=4.12, but you have typing-extensions 4.5.0 which is incompatible.\r\n",
      "nilearn 0.11.1 requires scikit-learn>=1.4.0, but you have scikit-learn 1.2.2 which is incompatible.\r\n",
      "plum-dispatch 2.5.7 requires typing-extensions>=4.9.0, but you have typing-extensions 4.5.0 which is incompatible.\r\n",
      "bayesian-optimization 2.0.3 requires numpy>=1.25, but you have numpy 1.24.3 which is incompatible.\r\n",
      "google-colab 1.0.0 requires notebook==6.5.5, but you have notebook 6.5.4 which is incompatible.\r\n",
      "google-colab 1.0.0 requires pandas==2.2.2, but you have pandas 2.2.3 which is incompatible.\r\n",
      "gensim 4.3.3 requires scipy<1.14.0,>=1.7.0, but you have scipy 1.15.2 which is incompatible.\r\n",
      "dopamine-rl 4.1.2 requires gymnasium>=1.0.0, but you have gymnasium 0.29.0 which is incompatible.\r\n",
      "openai 1.61.1 requires typing-extensions<5,>=4.11, but you have typing-extensions 4.5.0 which is incompatible.\r\n",
      "albumentations 2.0.4 requires numpy>=1.24.4, but you have numpy 1.24.3 which is incompatible.\r\n",
      "typeguard 4.4.1 requires typing-extensions>=4.10.0, but you have typing-extensions 4.5.0 which is incompatible.\r\n",
      "pandas-gbq 0.26.1 requires google-api-core<3.0.0dev,>=2.10.2, but you have google-api-core 1.34.1 which is incompatible.\r\n",
      "gcsfs 2024.10.0 requires fsspec==2024.10.0, but you have fsspec 2025.3.2 which is incompatible.\r\n",
      "torch 2.5.1+cu124 requires nvidia-cublas-cu12==12.4.5.8; platform_system == \"Linux\" and platform_machine == \"x86_64\", but you have nvidia-cublas-cu12 12.8.4.1 which is incompatible.\r\n",
      "torch 2.5.1+cu124 requires nvidia-cudnn-cu12==9.1.0.70; platform_system == \"Linux\" and platform_machine == \"x86_64\", but you have nvidia-cudnn-cu12 9.3.0.75 which is incompatible.\r\n",
      "torch 2.5.1+cu124 requires nvidia-cufft-cu12==11.2.1.3; platform_system == \"Linux\" and platform_machine == \"x86_64\", but you have nvidia-cufft-cu12 11.3.3.83 which is incompatible.\r\n",
      "torch 2.5.1+cu124 requires nvidia-curand-cu12==10.3.5.147; platform_system == \"Linux\" and platform_machine == \"x86_64\", but you have nvidia-curand-cu12 10.3.9.90 which is incompatible.\r\n",
      "torch 2.5.1+cu124 requires nvidia-cusolver-cu12==11.6.1.9; platform_system == \"Linux\" and platform_machine == \"x86_64\", but you have nvidia-cusolver-cu12 11.7.3.90 which is incompatible.\r\n",
      "torch 2.5.1+cu124 requires nvidia-cusparse-cu12==12.3.1.170; platform_system == \"Linux\" and platform_machine == \"x86_64\", but you have nvidia-cusparse-cu12 12.5.8.93 which is incompatible.\r\n",
      "torch 2.5.1+cu124 requires nvidia-nvjitlink-cu12==12.4.127; platform_system == \"Linux\" and platform_machine == \"x86_64\", but you have nvidia-nvjitlink-cu12 12.8.93 which is incompatible.\r\n",
      "torch 2.5.1+cu124 requires typing-extensions>=4.8.0, but you have typing-extensions 4.5.0 which is incompatible.\r\n",
      "bigframes 1.36.0 requires rich<14,>=12.4.4, but you have rich 14.0.0 which is incompatible.\r\n",
      "pydrive2 1.21.3 requires cryptography<44, but you have cryptography 44.0.2 which is incompatible.\r\n",
      "pydrive2 1.21.3 requires pyOpenSSL<=24.2.1,>=19.1.0, but you have pyopenssl 25.0.0 which is incompatible.\r\n",
      "imbalanced-learn 0.13.0 requires scikit-learn<2,>=1.3.2, but you have scikit-learn 1.2.2 which is incompatible.\r\n",
      "nibabel 5.3.2 requires typing-extensions>=4.6; python_version < \"3.13\", but you have typing-extensions 4.5.0 which is incompatible.\r\n",
      "tf-keras 2.18.0 requires tensorflow<2.19,>=2.18, but you have tensorflow 2.13.0 which is incompatible.\r\n",
      "ibis-framework 9.2.0 requires rich<14,>=12.4.4, but you have rich 14.0.0 which is incompatible.\r\n",
      "ibis-framework 9.2.0 requires toolz<1,>=0.11, but you have toolz 1.0.0 which is incompatible.\r\n",
      "tensorflow-text 2.18.1 requires tensorflow<2.19,>=2.18.0, but you have tensorflow 2.13.0 which is incompatible.\r\n",
      "pymc 5.20.1 requires numpy>=1.25.0, but you have numpy 1.24.3 which is incompatible.\r\n",
      "langchain 0.3.18 requires numpy<2,>=1.26.4; python_version < \"3.12\", but you have numpy 1.24.3 which is incompatible.\r\n",
      "plotnine 0.14.5 requires matplotlib>=3.8.0, but you have matplotlib 3.7.5 which is incompatible.\r\n",
      "altair 5.5.0 requires typing-extensions>=4.10.0; python_version < \"3.14\", but you have typing-extensions 4.5.0 which is incompatible.\r\n",
      "treescope 0.1.8 requires numpy>=1.25.2, but you have numpy 1.24.3 which is incompatible.\r\n",
      "sqlalchemy 2.0.38 requires typing-extensions>=4.6.0, but you have typing-extensions 4.5.0 which is incompatible.\r\n",
      "pylibcugraph-cu12 24.12.0 requires pylibraft-cu12==24.12.*, but you have pylibraft-cu12 25.2.0 which is incompatible.\r\n",
      "pylibcugraph-cu12 24.12.0 requires rmm-cu12==24.12.*, but you have rmm-cu12 25.2.0 which is incompatible.\r\n",
      "albucore 0.0.23 requires numpy>=1.24.4, but you have numpy 1.24.3 which is incompatible.\r\n",
      "mlxtend 0.23.4 requires scikit-learn>=1.3.1, but you have scikit-learn 1.2.2 which is incompatible.\r\n",
      "blosc2 3.1.0 requires numpy>=1.25.0, but you have numpy 1.24.3 which is incompatible.\r\n",
      "langchain-core 0.3.35 requires typing-extensions>=4.7, but you have typing-extensions 4.5.0 which is incompatible.\u001b[0m\u001b[31m\r\n",
      "\u001b[0mSuccessfully installed gast-0.4.0 google-auth-oauthlib-1.0.0 keras-2.13.1 numpy-1.24.3 tensorboard-2.13.0 tensorflow-2.13.0 tensorflow-estimator-2.13.0 typing-extensions-4.5.0\r\n",
      "Note: you may need to restart the kernel to use updated packages.\n"
     ]
    }
   ],
   "source": [
    "pip install tensorflow==2.13.0"
   ]
  },
  {
   "cell_type": "code",
   "execution_count": 2,
   "id": "7bebeb29",
   "metadata": {
    "_cell_guid": "b1076dfc-b9ad-4769-8c92-a6c4dae69d19",
    "_uuid": "8f2839f25d086af736a60e9eeb907d3b93b6e0e5",
    "execution": {
     "iopub.execute_input": "2025-05-11T03:28:12.246754Z",
     "iopub.status.busy": "2025-05-11T03:28:12.246010Z",
     "iopub.status.idle": "2025-05-11T03:28:20.965754Z",
     "shell.execute_reply": "2025-05-11T03:28:20.964939Z"
    },
    "papermill": {
     "duration": 8.739944,
     "end_time": "2025-05-11T03:28:20.967308",
     "exception": false,
     "start_time": "2025-05-11T03:28:12.227364",
     "status": "completed"
    },
    "tags": []
   },
   "outputs": [],
   "source": [
    "import pandas as pd\n",
    "import matplotlib.pyplot as plt\n",
    "import seaborn as sns\n",
    "import numpy as np\n",
    "from sklearn import metrics, preprocessing , datasets, model_selection\n",
    "from sklearn.metrics import accuracy_score , confusion_matrix ,classification_report, roc_curve, roc_auc_score\n",
    "from sklearn.preprocessing import MinMaxScaler ,StandardScaler, LabelEncoder \n",
    "from sklearn.model_selection import train_test_split\n",
    "import tensorflow as tf\n",
    "from tensorflow.keras.models import Sequential\n",
    "from tensorflow.keras.layers import Conv2D, MaxPooling2D ,Flatten ,Dense ,Dropout\n",
    "from tensorflow.keras.utils import to_categorical\n",
    "\n",
    "\n",
    "\n",
    "\n",
    "import warnings\n",
    "warnings.filterwarnings('ignore')"
   ]
  },
  {
   "cell_type": "markdown",
   "id": "ebe1da14",
   "metadata": {
    "papermill": {
     "duration": 0.011648,
     "end_time": "2025-05-11T03:28:20.991471",
     "exception": false,
     "start_time": "2025-05-11T03:28:20.979823",
     "status": "completed"
    },
    "tags": []
   },
   "source": [
    "# Chargement et exploration des données\n"
   ]
  },
  {
   "cell_type": "code",
   "execution_count": 3,
   "id": "93a158fa",
   "metadata": {
    "execution": {
     "iopub.execute_input": "2025-05-11T03:28:21.015979Z",
     "iopub.status.busy": "2025-05-11T03:28:21.015478Z",
     "iopub.status.idle": "2025-05-11T03:28:23.908656Z",
     "shell.execute_reply": "2025-05-11T03:28:23.907750Z"
    },
    "papermill": {
     "duration": 2.90692,
     "end_time": "2025-05-11T03:28:23.910184",
     "exception": false,
     "start_time": "2025-05-11T03:28:21.003264",
     "status": "completed"
    },
    "tags": []
   },
   "outputs": [
    {
     "data": {
      "text/html": [
       "<div>\n",
       "<style scoped>\n",
       "    .dataframe tbody tr th:only-of-type {\n",
       "        vertical-align: middle;\n",
       "    }\n",
       "\n",
       "    .dataframe tbody tr th {\n",
       "        vertical-align: top;\n",
       "    }\n",
       "\n",
       "    .dataframe thead th {\n",
       "        text-align: right;\n",
       "    }\n",
       "</style>\n",
       "<table border=\"1\" class=\"dataframe\">\n",
       "  <thead>\n",
       "    <tr style=\"text-align: right;\">\n",
       "      <th></th>\n",
       "      <th>pixel0000</th>\n",
       "      <th>pixel0001</th>\n",
       "      <th>pixel0002</th>\n",
       "      <th>pixel0003</th>\n",
       "      <th>pixel0004</th>\n",
       "      <th>pixel0005</th>\n",
       "      <th>pixel0006</th>\n",
       "      <th>pixel0007</th>\n",
       "      <th>pixel0008</th>\n",
       "      <th>pixel0009</th>\n",
       "      <th>...</th>\n",
       "      <th>pixel2343</th>\n",
       "      <th>pixel2344</th>\n",
       "      <th>pixel2345</th>\n",
       "      <th>pixel2346</th>\n",
       "      <th>pixel2347</th>\n",
       "      <th>pixel2348</th>\n",
       "      <th>pixel2349</th>\n",
       "      <th>pixel2350</th>\n",
       "      <th>pixel2351</th>\n",
       "      <th>label</th>\n",
       "    </tr>\n",
       "  </thead>\n",
       "  <tbody>\n",
       "    <tr>\n",
       "      <th>0</th>\n",
       "      <td>192</td>\n",
       "      <td>153</td>\n",
       "      <td>193</td>\n",
       "      <td>195</td>\n",
       "      <td>155</td>\n",
       "      <td>192</td>\n",
       "      <td>197</td>\n",
       "      <td>154</td>\n",
       "      <td>185</td>\n",
       "      <td>202</td>\n",
       "      <td>...</td>\n",
       "      <td>173</td>\n",
       "      <td>124</td>\n",
       "      <td>138</td>\n",
       "      <td>183</td>\n",
       "      <td>147</td>\n",
       "      <td>166</td>\n",
       "      <td>185</td>\n",
       "      <td>154</td>\n",
       "      <td>177</td>\n",
       "      <td>2</td>\n",
       "    </tr>\n",
       "    <tr>\n",
       "      <th>1</th>\n",
       "      <td>25</td>\n",
       "      <td>14</td>\n",
       "      <td>30</td>\n",
       "      <td>68</td>\n",
       "      <td>48</td>\n",
       "      <td>75</td>\n",
       "      <td>123</td>\n",
       "      <td>93</td>\n",
       "      <td>126</td>\n",
       "      <td>158</td>\n",
       "      <td>...</td>\n",
       "      <td>60</td>\n",
       "      <td>39</td>\n",
       "      <td>55</td>\n",
       "      <td>25</td>\n",
       "      <td>14</td>\n",
       "      <td>28</td>\n",
       "      <td>25</td>\n",
       "      <td>14</td>\n",
       "      <td>27</td>\n",
       "      <td>2</td>\n",
       "    </tr>\n",
       "    <tr>\n",
       "      <th>2</th>\n",
       "      <td>192</td>\n",
       "      <td>138</td>\n",
       "      <td>153</td>\n",
       "      <td>200</td>\n",
       "      <td>145</td>\n",
       "      <td>163</td>\n",
       "      <td>201</td>\n",
       "      <td>142</td>\n",
       "      <td>160</td>\n",
       "      <td>206</td>\n",
       "      <td>...</td>\n",
       "      <td>167</td>\n",
       "      <td>129</td>\n",
       "      <td>143</td>\n",
       "      <td>159</td>\n",
       "      <td>124</td>\n",
       "      <td>142</td>\n",
       "      <td>136</td>\n",
       "      <td>104</td>\n",
       "      <td>117</td>\n",
       "      <td>2</td>\n",
       "    </tr>\n",
       "    <tr>\n",
       "      <th>3</th>\n",
       "      <td>38</td>\n",
       "      <td>19</td>\n",
       "      <td>30</td>\n",
       "      <td>95</td>\n",
       "      <td>59</td>\n",
       "      <td>72</td>\n",
       "      <td>143</td>\n",
       "      <td>103</td>\n",
       "      <td>119</td>\n",
       "      <td>171</td>\n",
       "      <td>...</td>\n",
       "      <td>44</td>\n",
       "      <td>26</td>\n",
       "      <td>36</td>\n",
       "      <td>25</td>\n",
       "      <td>12</td>\n",
       "      <td>17</td>\n",
       "      <td>25</td>\n",
       "      <td>12</td>\n",
       "      <td>15</td>\n",
       "      <td>2</td>\n",
       "    </tr>\n",
       "    <tr>\n",
       "      <th>4</th>\n",
       "      <td>158</td>\n",
       "      <td>113</td>\n",
       "      <td>139</td>\n",
       "      <td>194</td>\n",
       "      <td>144</td>\n",
       "      <td>174</td>\n",
       "      <td>215</td>\n",
       "      <td>162</td>\n",
       "      <td>191</td>\n",
       "      <td>225</td>\n",
       "      <td>...</td>\n",
       "      <td>209</td>\n",
       "      <td>166</td>\n",
       "      <td>185</td>\n",
       "      <td>172</td>\n",
       "      <td>135</td>\n",
       "      <td>149</td>\n",
       "      <td>109</td>\n",
       "      <td>78</td>\n",
       "      <td>92</td>\n",
       "      <td>2</td>\n",
       "    </tr>\n",
       "    <tr>\n",
       "      <th>5</th>\n",
       "      <td>8</td>\n",
       "      <td>1</td>\n",
       "      <td>3</td>\n",
       "      <td>19</td>\n",
       "      <td>5</td>\n",
       "      <td>10</td>\n",
       "      <td>26</td>\n",
       "      <td>8</td>\n",
       "      <td>13</td>\n",
       "      <td>34</td>\n",
       "      <td>...</td>\n",
       "      <td>12</td>\n",
       "      <td>3</td>\n",
       "      <td>7</td>\n",
       "      <td>5</td>\n",
       "      <td>0</td>\n",
       "      <td>1</td>\n",
       "      <td>4</td>\n",
       "      <td>0</td>\n",
       "      <td>0</td>\n",
       "      <td>2</td>\n",
       "    </tr>\n",
       "    <tr>\n",
       "      <th>6</th>\n",
       "      <td>194</td>\n",
       "      <td>147</td>\n",
       "      <td>137</td>\n",
       "      <td>197</td>\n",
       "      <td>148</td>\n",
       "      <td>139</td>\n",
       "      <td>197</td>\n",
       "      <td>148</td>\n",
       "      <td>132</td>\n",
       "      <td>200</td>\n",
       "      <td>...</td>\n",
       "      <td>211</td>\n",
       "      <td>160</td>\n",
       "      <td>163</td>\n",
       "      <td>211</td>\n",
       "      <td>162</td>\n",
       "      <td>166</td>\n",
       "      <td>208</td>\n",
       "      <td>162</td>\n",
       "      <td>166</td>\n",
       "      <td>2</td>\n",
       "    </tr>\n",
       "    <tr>\n",
       "      <th>7</th>\n",
       "      <td>161</td>\n",
       "      <td>121</td>\n",
       "      <td>105</td>\n",
       "      <td>169</td>\n",
       "      <td>128</td>\n",
       "      <td>119</td>\n",
       "      <td>172</td>\n",
       "      <td>129</td>\n",
       "      <td>116</td>\n",
       "      <td>176</td>\n",
       "      <td>...</td>\n",
       "      <td>141</td>\n",
       "      <td>103</td>\n",
       "      <td>92</td>\n",
       "      <td>87</td>\n",
       "      <td>59</td>\n",
       "      <td>56</td>\n",
       "      <td>32</td>\n",
       "      <td>18</td>\n",
       "      <td>19</td>\n",
       "      <td>2</td>\n",
       "    </tr>\n",
       "    <tr>\n",
       "      <th>8</th>\n",
       "      <td>125</td>\n",
       "      <td>84</td>\n",
       "      <td>85</td>\n",
       "      <td>165</td>\n",
       "      <td>114</td>\n",
       "      <td>118</td>\n",
       "      <td>181</td>\n",
       "      <td>120</td>\n",
       "      <td>125</td>\n",
       "      <td>188</td>\n",
       "      <td>...</td>\n",
       "      <td>119</td>\n",
       "      <td>80</td>\n",
       "      <td>79</td>\n",
       "      <td>62</td>\n",
       "      <td>35</td>\n",
       "      <td>41</td>\n",
       "      <td>19</td>\n",
       "      <td>8</td>\n",
       "      <td>13</td>\n",
       "      <td>2</td>\n",
       "    </tr>\n",
       "    <tr>\n",
       "      <th>9</th>\n",
       "      <td>228</td>\n",
       "      <td>179</td>\n",
       "      <td>194</td>\n",
       "      <td>227</td>\n",
       "      <td>174</td>\n",
       "      <td>191</td>\n",
       "      <td>226</td>\n",
       "      <td>165</td>\n",
       "      <td>182</td>\n",
       "      <td>215</td>\n",
       "      <td>...</td>\n",
       "      <td>217</td>\n",
       "      <td>142</td>\n",
       "      <td>156</td>\n",
       "      <td>219</td>\n",
       "      <td>154</td>\n",
       "      <td>166</td>\n",
       "      <td>216</td>\n",
       "      <td>146</td>\n",
       "      <td>154</td>\n",
       "      <td>2</td>\n",
       "    </tr>\n",
       "  </tbody>\n",
       "</table>\n",
       "<p>10 rows × 2353 columns</p>\n",
       "</div>"
      ],
      "text/plain": [
       "   pixel0000  pixel0001  pixel0002  pixel0003  pixel0004  pixel0005  \\\n",
       "0        192        153        193        195        155        192   \n",
       "1         25         14         30         68         48         75   \n",
       "2        192        138        153        200        145        163   \n",
       "3         38         19         30         95         59         72   \n",
       "4        158        113        139        194        144        174   \n",
       "5          8          1          3         19          5         10   \n",
       "6        194        147        137        197        148        139   \n",
       "7        161        121        105        169        128        119   \n",
       "8        125         84         85        165        114        118   \n",
       "9        228        179        194        227        174        191   \n",
       "\n",
       "   pixel0006  pixel0007  pixel0008  pixel0009  ...  pixel2343  pixel2344  \\\n",
       "0        197        154        185        202  ...        173        124   \n",
       "1        123         93        126        158  ...         60         39   \n",
       "2        201        142        160        206  ...        167        129   \n",
       "3        143        103        119        171  ...         44         26   \n",
       "4        215        162        191        225  ...        209        166   \n",
       "5         26          8         13         34  ...         12          3   \n",
       "6        197        148        132        200  ...        211        160   \n",
       "7        172        129        116        176  ...        141        103   \n",
       "8        181        120        125        188  ...        119         80   \n",
       "9        226        165        182        215  ...        217        142   \n",
       "\n",
       "   pixel2345  pixel2346  pixel2347  pixel2348  pixel2349  pixel2350  \\\n",
       "0        138        183        147        166        185        154   \n",
       "1         55         25         14         28         25         14   \n",
       "2        143        159        124        142        136        104   \n",
       "3         36         25         12         17         25         12   \n",
       "4        185        172        135        149        109         78   \n",
       "5          7          5          0          1          4          0   \n",
       "6        163        211        162        166        208        162   \n",
       "7         92         87         59         56         32         18   \n",
       "8         79         62         35         41         19          8   \n",
       "9        156        219        154        166        216        146   \n",
       "\n",
       "   pixel2351  label  \n",
       "0        177      2  \n",
       "1         27      2  \n",
       "2        117      2  \n",
       "3         15      2  \n",
       "4         92      2  \n",
       "5          0      2  \n",
       "6        166      2  \n",
       "7         19      2  \n",
       "8         13      2  \n",
       "9        154      2  \n",
       "\n",
       "[10 rows x 2353 columns]"
      ]
     },
     "execution_count": 3,
     "metadata": {},
     "output_type": "execute_result"
    }
   ],
   "source": [
    "df = pd.read_csv('/kaggle/input/images-in-csv-datasets/hmnist_28_28_RGB.csv')\n",
    "df.head(10)\n"
   ]
  },
  {
   "cell_type": "code",
   "execution_count": 4,
   "id": "b3222064",
   "metadata": {
    "execution": {
     "iopub.execute_input": "2025-05-11T03:28:23.937735Z",
     "iopub.status.busy": "2025-05-11T03:28:23.937464Z",
     "iopub.status.idle": "2025-05-11T03:28:23.941983Z",
     "shell.execute_reply": "2025-05-11T03:28:23.941307Z"
    },
    "papermill": {
     "duration": 0.018671,
     "end_time": "2025-05-11T03:28:23.943181",
     "exception": false,
     "start_time": "2025-05-11T03:28:23.924510",
     "status": "completed"
    },
    "tags": []
   },
   "outputs": [
    {
     "data": {
      "text/plain": [
       "(10015, 2353)"
      ]
     },
     "execution_count": 4,
     "metadata": {},
     "output_type": "execute_result"
    }
   ],
   "source": [
    "df.shape"
   ]
  },
  {
   "cell_type": "code",
   "execution_count": 5,
   "id": "1f76e2a8",
   "metadata": {
    "execution": {
     "iopub.execute_input": "2025-05-11T03:28:23.967678Z",
     "iopub.status.busy": "2025-05-11T03:28:23.967454Z",
     "iopub.status.idle": "2025-05-11T03:28:23.977094Z",
     "shell.execute_reply": "2025-05-11T03:28:23.976518Z"
    },
    "papermill": {
     "duration": 0.023062,
     "end_time": "2025-05-11T03:28:23.978064",
     "exception": false,
     "start_time": "2025-05-11T03:28:23.955002",
     "status": "completed"
    },
    "tags": []
   },
   "outputs": [
    {
     "data": {
      "text/plain": [
       "label\n",
       "4    6705\n",
       "6    1113\n",
       "2    1099\n",
       "1     514\n",
       "0     327\n",
       "5     142\n",
       "3     115\n",
       "Name: count, dtype: int64"
      ]
     },
     "execution_count": 5,
     "metadata": {},
     "output_type": "execute_result"
    }
   ],
   "source": [
    "df.columns[-1]\n",
    "df['label'].value_counts()"
   ]
  },
  {
   "cell_type": "markdown",
   "id": "c111c4a9",
   "metadata": {
    "papermill": {
     "duration": 0.012242,
     "end_time": "2025-05-11T03:28:24.003149",
     "exception": false,
     "start_time": "2025-05-11T03:28:23.990907",
     "status": "completed"
    },
    "tags": []
   },
   "source": [
    "# Reshaper et afficher une image"
   ]
  },
  {
   "cell_type": "code",
   "execution_count": 6,
   "id": "859d5eb2",
   "metadata": {
    "execution": {
     "iopub.execute_input": "2025-05-11T03:28:24.027790Z",
     "iopub.status.busy": "2025-05-11T03:28:24.027551Z",
     "iopub.status.idle": "2025-05-11T03:28:24.975226Z",
     "shell.execute_reply": "2025-05-11T03:28:24.974477Z"
    },
    "papermill": {
     "duration": 0.961518,
     "end_time": "2025-05-11T03:28:24.976461",
     "exception": false,
     "start_time": "2025-05-11T03:28:24.014943",
     "status": "completed"
    },
    "tags": []
   },
   "outputs": [
    {
     "data": {
      "image/png": "[encoded data removed]",
      "text/plain": [
       "<Figure size 800x800 with 16 Axes>"
      ]
     },
     "metadata": {},
     "output_type": "display_data"
    }
   ],
   "source": [
    "# 9 premières images\n",
    "import matplotlib.pyplot as plt\n",
    "plt.figure(figsize=(8, 8))\n",
    "for i in range(16):\n",
    "\n",
    "    pixels = df.iloc[i, :-1].values.astype(np.uint8).reshape((28, 28, 3))\n",
    "    label = df.iloc[i, -1]\n",
    "    plt.subplot(4, 4, i + 1)\n",
    "    plt.imshow(pixels)\n",
    "    plt.title(f\"Label: {label}\")\n",
    "    plt.axis('off')\n",
    "plt.tight_layout()\n",
    "plt.show()\n"
   ]
  },
  {
   "cell_type": "markdown",
   "id": "35330ab9",
   "metadata": {
    "papermill": {
     "duration": 0.012546,
     "end_time": "2025-05-11T03:28:25.002592",
     "exception": false,
     "start_time": "2025-05-11T03:28:24.990046",
     "status": "completed"
    },
    "tags": []
   },
   "source": [
    "# Séparer les pixels (X) et les labels (y)"
   ]
  },
  {
   "cell_type": "code",
   "execution_count": 7,
   "id": "eb7f0a1f",
   "metadata": {
    "execution": {
     "iopub.execute_input": "2025-05-11T03:28:25.028654Z",
     "iopub.status.busy": "2025-05-11T03:28:25.028451Z",
     "iopub.status.idle": "2025-05-11T03:28:25.089248Z",
     "shell.execute_reply": "2025-05-11T03:28:25.088381Z"
    },
    "papermill": {
     "duration": 0.075516,
     "end_time": "2025-05-11T03:28:25.090737",
     "exception": false,
     "start_time": "2025-05-11T03:28:25.015221",
     "status": "completed"
    },
    "tags": []
   },
   "outputs": [],
   "source": [
    "X = df.drop(columns=[\"label\"]).values\n",
    "y = df[\"label\"].values\n"
   ]
  },
  {
   "cell_type": "markdown",
   "id": "b7d2d15d",
   "metadata": {
    "papermill": {
     "duration": 0.013344,
     "end_time": "2025-05-11T03:28:25.118691",
     "exception": false,
     "start_time": "2025-05-11T03:28:25.105347",
     "status": "completed"
    },
    "tags": []
   },
   "source": [
    "# Remettre les images en forme (reshape)"
   ]
  },
  {
   "cell_type": "code",
   "execution_count": 8,
   "id": "db20a3df",
   "metadata": {
    "execution": {
     "iopub.execute_input": "2025-05-11T03:28:25.190341Z",
     "iopub.status.busy": "2025-05-11T03:28:25.189598Z",
     "iopub.status.idle": "2025-05-11T03:28:25.193401Z",
     "shell.execute_reply": "2025-05-11T03:28:25.192855Z"
    },
    "papermill": {
     "duration": 0.018837,
     "end_time": "2025-05-11T03:28:25.194410",
     "exception": false,
     "start_time": "2025-05-11T03:28:25.175573",
     "status": "completed"
    },
    "tags": []
   },
   "outputs": [],
   "source": [
    "X = X.reshape(-1, 28, 28, 3)  # nb_images x hauteur x largeur x canaux\n",
    "#(hauteur = 28, largeur = 28, 3 couleurs : R, G, B)"
   ]
  },
  {
   "cell_type": "markdown",
   "id": "3b48cf60",
   "metadata": {
    "papermill": {
     "duration": 0.013479,
     "end_time": "2025-05-11T03:28:25.220940",
     "exception": false,
     "start_time": "2025-05-11T03:28:25.207461",
     "status": "completed"
    },
    "tags": []
   },
   "source": [
    "# Normaliser les valeurs des pixels"
   ]
  },
  {
   "cell_type": "code",
   "execution_count": 9,
   "id": "567432c9",
   "metadata": {
    "execution": {
     "iopub.execute_input": "2025-05-11T03:28:25.248664Z",
     "iopub.status.busy": "2025-05-11T03:28:25.248448Z",
     "iopub.status.idle": "2025-05-11T03:28:25.327185Z",
     "shell.execute_reply": "2025-05-11T03:28:25.326551Z"
    },
    "papermill": {
     "duration": 0.094253,
     "end_time": "2025-05-11T03:28:25.328533",
     "exception": false,
     "start_time": "2025-05-11T03:28:25.234280",
     "status": "completed"
    },
    "tags": []
   },
   "outputs": [],
   "source": [
    "X=X/225.0"
   ]
  },
  {
   "cell_type": "markdown",
   "id": "60007c2f",
   "metadata": {
    "papermill": {
     "duration": 0.012648,
     "end_time": "2025-05-11T03:28:25.354806",
     "exception": false,
     "start_time": "2025-05-11T03:28:25.342158",
     "status": "completed"
    },
    "tags": []
   },
   "source": [
    "# Encoder les labels"
   ]
  },
  {
   "cell_type": "code",
   "execution_count": 10,
   "id": "2abb648c",
   "metadata": {
    "execution": {
     "iopub.execute_input": "2025-05-11T03:28:25.381237Z",
     "iopub.status.busy": "2025-05-11T03:28:25.380986Z",
     "iopub.status.idle": "2025-05-11T03:28:25.385000Z",
     "shell.execute_reply": "2025-05-11T03:28:25.384300Z"
    },
    "papermill": {
     "duration": 0.018596,
     "end_time": "2025-05-11T03:28:25.386129",
     "exception": false,
     "start_time": "2025-05-11T03:28:25.367533",
     "status": "completed"
    },
    "tags": []
   },
   "outputs": [],
   "source": [
    "from tensorflow.keras.utils import to_categorical\n",
    "y_cat = to_categorical(y)"
   ]
  },
  {
   "cell_type": "markdown",
   "id": "30cd5729",
   "metadata": {
    "papermill": {
     "duration": 0.01249,
     "end_time": "2025-05-11T03:28:25.411387",
     "exception": false,
     "start_time": "2025-05-11T03:28:25.398897",
     "status": "completed"
    },
    "tags": []
   },
   "source": [
    "# Diviser les données en entraînement / test"
   ]
  },
  {
   "cell_type": "code",
   "execution_count": 11,
   "id": "ae954f08",
   "metadata": {
    "execution": {
     "iopub.execute_input": "2025-05-11T03:28:25.437554Z",
     "iopub.status.busy": "2025-05-11T03:28:25.437338Z",
     "iopub.status.idle": "2025-05-11T03:28:25.690616Z",
     "shell.execute_reply": "2025-05-11T03:28:25.689832Z"
    },
    "papermill": {
     "duration": 0.267928,
     "end_time": "2025-05-11T03:28:25.692044",
     "exception": false,
     "start_time": "2025-05-11T03:28:25.424116",
     "status": "completed"
    },
    "tags": []
   },
   "outputs": [],
   "source": [
    "from sklearn.model_selection import train_test_split\n",
    "X_train, X_test, y_train, y_test = train_test_split(X, y_cat, test_size=0.2, stratify=y, random_state=42)\n"
   ]
  },
  {
   "cell_type": "markdown",
   "id": "684960da",
   "metadata": {
    "papermill": {
     "duration": 0.012693,
     "end_time": "2025-05-11T03:28:25.718247",
     "exception": false,
     "start_time": "2025-05-11T03:28:25.705554",
     "status": "completed"
    },
    "tags": []
   },
   "source": [
    "# Afficher quelques images pour vérifier"
   ]
  },
  {
   "cell_type": "code",
   "execution_count": 12,
   "id": "db3c79fc",
   "metadata": {
    "execution": {
     "iopub.execute_input": "2025-05-11T03:28:25.744607Z",
     "iopub.status.busy": "2025-05-11T03:28:25.744378Z",
     "iopub.status.idle": "2025-05-11T03:28:25.808537Z",
     "shell.execute_reply": "2025-05-11T03:28:25.807851Z"
    },
    "papermill": {
     "duration": 0.078665,
     "end_time": "2025-05-11T03:28:25.809640",
     "exception": false,
     "start_time": "2025-05-11T03:28:25.730975",
     "status": "completed"
    },
    "tags": []
   },
   "outputs": [
    {
     "data": {
      "image/png": "[encoded data removed]",
      "text/plain": [
       "<Figure size 640x480 with 1 Axes>"
      ]
     },
     "metadata": {},
     "output_type": "display_data"
    }
   ],
   "source": [
    "import matplotlib.pyplot as plt\n",
    "import numpy as np\n",
    "\n",
    "# Remettre les valeurs dans la plage 0-255\n",
    "image = (X_train[1] * 255.0 / X_train[1].max()).reshape(28, 28, 3).astype(np.uint8)\n",
    "\n",
    "# Affichage\n",
    "plt.imshow(image)\n",
    "plt.title(f\"Label: {y_train[1]}\")\n",
    "plt.axis('off')\n",
    "plt.show()\n",
    "\n"
   ]
  },
  {
   "cell_type": "markdown",
   "id": "00f340af",
   "metadata": {
    "papermill": {
     "duration": 0.012962,
     "end_time": "2025-05-11T03:28:25.835716",
     "exception": false,
     "start_time": "2025-05-11T03:28:25.822754",
     "status": "completed"
    },
    "tags": []
   },
   "source": [
    "# Créer un modèle CNN"
   ]
  },
  {
   "cell_type": "code",
   "execution_count": 13,
   "id": "b19a5429",
   "metadata": {
    "execution": {
     "iopub.execute_input": "2025-05-11T03:28:25.862748Z",
     "iopub.status.busy": "2025-05-11T03:28:25.862176Z",
     "iopub.status.idle": "2025-05-11T03:28:26.497795Z",
     "shell.execute_reply": "2025-05-11T03:28:26.497229Z"
    },
    "papermill": {
     "duration": 0.65043,
     "end_time": "2025-05-11T03:28:26.499149",
     "exception": false,
     "start_time": "2025-05-11T03:28:25.848719",
     "status": "completed"
    },
    "tags": []
   },
   "outputs": [],
   "source": [
    "num_classes = df['label'].nunique()\n",
    "\n",
    "\n",
    "model = Sequential([\n",
    "    Conv2D(32, (3, 3), activation='relu', input_shape=(28, 28, 3)),\n",
    "    MaxPooling2D(2, 2),\n",
    "    Conv2D(64, (3, 3), activation='relu'),\n",
    "    MaxPooling2D(2, 2),\n",
    "    Flatten(),\n",
    "    Dense(128, activation='relu'),\n",
    "    Dropout(0.3),\n",
    "    Dense(num_classes, activation='softmax')\n",
    "])\n"
   ]
  },
  {
   "cell_type": "markdown",
   "id": "5043a0ad",
   "metadata": {
    "papermill": {
     "duration": 0.014225,
     "end_time": "2025-05-11T03:28:26.527187",
     "exception": false,
     "start_time": "2025-05-11T03:28:26.512962",
     "status": "completed"
    },
    "tags": []
   },
   "source": [
    "# Compiler et entraîner le modèle"
   ]
  },
  {
   "cell_type": "code",
   "execution_count": 14,
   "id": "d90336a5",
   "metadata": {
    "execution": {
     "iopub.execute_input": "2025-05-11T03:28:26.554568Z",
     "iopub.status.busy": "2025-05-11T03:28:26.554179Z",
     "iopub.status.idle": "2025-05-11T03:28:54.665035Z",
     "shell.execute_reply": "2025-05-11T03:28:54.664364Z"
    },
    "papermill": {
     "duration": 28.125716,
     "end_time": "2025-05-11T03:28:54.666265",
     "exception": false,
     "start_time": "2025-05-11T03:28:26.540549",
     "status": "completed"
    },
    "tags": []
   },
   "outputs": [
    {
     "name": "stdout",
     "output_type": "stream",
     "text": [
      "Epoch 1/10\n",
      "201/201 [==============================] - 4s 15ms/step - loss: 1.0414 - accuracy: 0.6648 - val_loss: 0.9323 - val_accuracy: 0.6669\n",
      "Epoch 2/10\n",
      "201/201 [==============================] - 3s 13ms/step - loss: 0.8927 - accuracy: 0.6795 - val_loss: 0.8737 - val_accuracy: 0.6825\n",
      "Epoch 3/10\n",
      "201/201 [==============================] - 3s 13ms/step - loss: 0.8733 - accuracy: 0.6859 - val_loss: 0.8433 - val_accuracy: 0.6974\n",
      "Epoch 4/10\n",
      "201/201 [==============================] - 3s 14ms/step - loss: 0.8403 - accuracy: 0.6897 - val_loss: 0.7979 - val_accuracy: 0.7037\n",
      "Epoch 5/10\n",
      "201/201 [==============================] - 3s 14ms/step - loss: 0.8254 - accuracy: 0.6951 - val_loss: 0.7978 - val_accuracy: 0.7062\n",
      "Epoch 6/10\n",
      "201/201 [==============================] - 3s 13ms/step - loss: 0.7836 - accuracy: 0.7106 - val_loss: 0.7653 - val_accuracy: 0.7211\n",
      "Epoch 7/10\n",
      "201/201 [==============================] - 3s 13ms/step - loss: 0.7541 - accuracy: 0.7156 - val_loss: 0.7306 - val_accuracy: 0.7380\n",
      "Epoch 8/10\n",
      "201/201 [==============================] - 3s 15ms/step - loss: 0.7317 - accuracy: 0.7298 - val_loss: 0.7179 - val_accuracy: 0.7430\n",
      "Epoch 9/10\n",
      "201/201 [==============================] - 3s 13ms/step - loss: 0.7098 - accuracy: 0.7344 - val_loss: 0.7352 - val_accuracy: 0.7367\n",
      "Epoch 10/10\n",
      "201/201 [==============================] - 3s 13ms/step - loss: 0.6967 - accuracy: 0.7425 - val_loss: 0.7199 - val_accuracy: 0.7243\n"
     ]
    }
   ],
   "source": [
    "model.compile(optimizer='adam', loss='categorical_crossentropy', metrics=['accuracy'])\n",
    "history = model.fit(X_train, y_train, epochs=10, batch_size=32, validation_split=0.2)\n"
   ]
  },
  {
   "cell_type": "markdown",
   "id": "8f46c1b1",
   "metadata": {
    "papermill": {
     "duration": 0.030208,
     "end_time": "2025-05-11T03:28:54.728535",
     "exception": false,
     "start_time": "2025-05-11T03:28:54.698327",
     "status": "completed"
    },
    "tags": []
   },
   "source": [
    "# Évaluer les performances"
   ]
  },
  {
   "cell_type": "code",
   "execution_count": 15,
   "id": "754dcb5c",
   "metadata": {
    "execution": {
     "iopub.execute_input": "2025-05-11T03:28:54.788671Z",
     "iopub.status.busy": "2025-05-11T03:28:54.788454Z",
     "iopub.status.idle": "2025-05-11T03:28:55.145538Z",
     "shell.execute_reply": "2025-05-11T03:28:55.144759Z"
    },
    "papermill": {
     "duration": 0.388584,
     "end_time": "2025-05-11T03:28:55.146619",
     "exception": false,
     "start_time": "2025-05-11T03:28:54.758035",
     "status": "completed"
    },
    "tags": []
   },
   "outputs": [
    {
     "name": "stdout",
     "output_type": "stream",
     "text": [
      "63/63 [==============================] - 0s 4ms/step - loss: 0.7291 - accuracy: 0.7274\n",
      "Accuracy sur le test : 0.7274088859558105\n"
     ]
    }
   ],
   "source": [
    "test_loss, test_acc = model.evaluate(X_test, y_test)\n",
    "print(\"Accuracy sur le test :\", test_acc)\n"
   ]
  },
  {
   "cell_type": "markdown",
   "id": "f779f270",
   "metadata": {
    "papermill": {
     "duration": 0.029863,
     "end_time": "2025-05-11T03:28:55.207923",
     "exception": false,
     "start_time": "2025-05-11T03:28:55.178060",
     "status": "completed"
    },
    "tags": []
   },
   "source": [
    "# Matrice de confusion et le rapport"
   ]
  },
  {
   "cell_type": "code",
   "execution_count": 16,
   "id": "52d8adab",
   "metadata": {
    "execution": {
     "iopub.execute_input": "2025-05-11T03:28:55.269073Z",
     "iopub.status.busy": "2025-05-11T03:28:55.268594Z",
     "iopub.status.idle": "2025-05-11T03:28:55.948950Z",
     "shell.execute_reply": "2025-05-11T03:28:55.948189Z"
    },
    "papermill": {
     "duration": 0.712199,
     "end_time": "2025-05-11T03:28:55.950059",
     "exception": false,
     "start_time": "2025-05-11T03:28:55.237860",
     "status": "completed"
    },
    "tags": []
   },
   "outputs": [
    {
     "name": "stdout",
     "output_type": "stream",
     "text": [
      "63/63 [==============================] - 0s 4ms/step\n",
      "              precision    recall  f1-score   support\n",
      "\n",
      "           0       0.41      0.25      0.31        65\n",
      "           1       0.34      0.68      0.45       103\n",
      "           2       0.62      0.15      0.24       220\n",
      "           3       0.00      0.00      0.00        23\n",
      "           4       0.80      0.95      0.87      1341\n",
      "           5       0.78      0.50      0.61        28\n",
      "           6       0.53      0.21      0.30       223\n",
      "\n",
      "    accuracy                           0.73      2003\n",
      "   macro avg       0.50      0.39      0.40      2003\n",
      "weighted avg       0.70      0.73      0.68      2003\n",
      "\n"
     ]
    },
    {
     "data": {
      "image/png": "[encoded data removed]",
      "text/plain": [
       "<Figure size 640x480 with 2 Axes>"
      ]
     },
     "metadata": {},
     "output_type": "display_data"
    }
   ],
   "source": [
    "y_pred = model.predict(X_test)\n",
    "y_pred_labels = np.argmax(y_pred, axis=1)\n",
    "y_true_labels = np.argmax(y_test, axis=1)\n",
    "\n",
    "print(classification_report(y_true_labels, y_pred_labels))\n",
    "\n",
    "cm = confusion_matrix(y_true_labels, y_pred_labels)\n",
    "sns.heatmap(cm, annot=True, fmt='d')\n",
    "plt.xlabel(\"Prédit\")\n",
    "plt.ylabel(\"Réel\")\n",
    "plt.show()\n"
   ]
  },
  {
   "cell_type": "markdown",
   "id": "7406071d",
   "metadata": {
    "papermill": {
     "duration": 0.030598,
     "end_time": "2025-05-11T03:28:56.012184",
     "exception": false,
     "start_time": "2025-05-11T03:28:55.981586",
     "status": "completed"
    },
    "tags": []
   },
   "source": []
  },
  {
   "cell_type": "code",
   "execution_count": 17,
   "id": "1c13c5fb",
   "metadata": {
    "execution": {
     "iopub.execute_input": "2025-05-11T03:28:56.074533Z",
     "iopub.status.busy": "2025-05-11T03:28:56.074289Z",
     "iopub.status.idle": "2025-05-11T03:29:51.581709Z",
     "shell.execute_reply": "2025-05-11T03:29:51.581046Z"
    },
    "papermill": {
     "duration": 55.540097,
     "end_time": "2025-05-11T03:29:51.582853",
     "exception": false,
     "start_time": "2025-05-11T03:28:56.042756",
     "status": "completed"
    },
    "tags": []
   },
   "outputs": [
    {
     "name": "stdout",
     "output_type": "stream",
     "text": [
      "Epoch 1/20\n",
      "201/201 [==============================] - 3s 13ms/step - loss: 1.3909 - accuracy: 0.5194 - val_loss: 1.0771 - val_accuracy: 0.5115\n",
      "Epoch 2/20\n",
      "201/201 [==============================] - 3s 13ms/step - loss: 1.2955 - accuracy: 0.5154 - val_loss: 0.9294 - val_accuracy: 0.6020\n",
      "Epoch 3/20\n",
      "201/201 [==============================] - 3s 13ms/step - loss: 1.2054 - accuracy: 0.5581 - val_loss: 0.9397 - val_accuracy: 0.6076\n",
      "Epoch 4/20\n",
      "201/201 [==============================] - 3s 13ms/step - loss: 1.1487 - accuracy: 0.5787 - val_loss: 1.0538 - val_accuracy: 0.5153\n",
      "Epoch 5/20\n",
      "201/201 [==============================] - 3s 13ms/step - loss: 1.0689 - accuracy: 0.5843 - val_loss: 1.0386 - val_accuracy: 0.5770\n",
      "Epoch 6/20\n",
      "201/201 [==============================] - 3s 13ms/step - loss: 1.0459 - accuracy: 0.5921 - val_loss: 0.8815 - val_accuracy: 0.6313\n",
      "Epoch 7/20\n",
      "201/201 [==============================] - 3s 13ms/step - loss: 0.9737 - accuracy: 0.6073 - val_loss: 0.9407 - val_accuracy: 0.5889\n",
      "Epoch 8/20\n",
      "201/201 [==============================] - 3s 13ms/step - loss: 0.9363 - accuracy: 0.6113 - val_loss: 0.8895 - val_accuracy: 0.6170\n",
      "Epoch 9/20\n",
      "201/201 [==============================] - 3s 14ms/step - loss: 0.9077 - accuracy: 0.6171 - val_loss: 0.9576 - val_accuracy: 0.5970\n",
      "Epoch 10/20\n",
      "201/201 [==============================] - 3s 14ms/step - loss: 0.8665 - accuracy: 0.6166 - val_loss: 0.9457 - val_accuracy: 0.6020\n",
      "Epoch 11/20\n",
      "201/201 [==============================] - 3s 13ms/step - loss: 0.8274 - accuracy: 0.6297 - val_loss: 1.1894 - val_accuracy: 0.5059\n",
      "Epoch 12/20\n",
      "201/201 [==============================] - 3s 14ms/step - loss: 0.7990 - accuracy: 0.6296 - val_loss: 0.9311 - val_accuracy: 0.6082\n",
      "Epoch 13/20\n",
      "201/201 [==============================] - 3s 14ms/step - loss: 0.7245 - accuracy: 0.6691 - val_loss: 0.8930 - val_accuracy: 0.6407\n",
      "Epoch 14/20\n",
      "201/201 [==============================] - 3s 14ms/step - loss: 0.7648 - accuracy: 0.6457 - val_loss: 1.0442 - val_accuracy: 0.5671\n",
      "Epoch 15/20\n",
      "201/201 [==============================] - 3s 14ms/step - loss: 0.7681 - accuracy: 0.6355 - val_loss: 0.8816 - val_accuracy: 0.6419\n",
      "Epoch 16/20\n",
      "201/201 [==============================] - 3s 14ms/step - loss: 0.6551 - accuracy: 0.6623 - val_loss: 0.9351 - val_accuracy: 0.6251\n",
      "Epoch 17/20\n",
      "201/201 [==============================] - 3s 14ms/step - loss: 0.6406 - accuracy: 0.6797 - val_loss: 0.9378 - val_accuracy: 0.6195\n",
      "Epoch 18/20\n",
      "201/201 [==============================] - 3s 14ms/step - loss: 0.6570 - accuracy: 0.6692 - val_loss: 0.8040 - val_accuracy: 0.6675\n",
      "Epoch 19/20\n",
      "201/201 [==============================] - 3s 14ms/step - loss: 0.5629 - accuracy: 0.6932 - val_loss: 0.9858 - val_accuracy: 0.5845\n",
      "Epoch 20/20\n",
      "201/201 [==============================] - 3s 14ms/step - loss: 0.5648 - accuracy: 0.6823 - val_loss: 0.8539 - val_accuracy: 0.6519\n",
      "63/63 [==============================] - 0s 4ms/step - loss: 0.9116 - accuracy: 0.6560\n",
      "Accuracy sur le test : 0.6560159921646118\n"
     ]
    }
   ],
   "source": [
    "from sklearn.utils.class_weight import compute_class_weight\n",
    "import numpy as np\n",
    "from sklearn.model_selection import train_test_split\n",
    "\n",
    "# Suppose que X et y sont tes données et labels d'entraînement\n",
    "# Si y est one-hot encodé, ça fonctionne aussi\n",
    "\n",
    "X_train, X_val, y_train, y_val = train_test_split(\n",
    "    X_train, y_train,\n",
    "    test_size=0.2,    # 20% pour la validation\n",
    "    random_state=42,\n",
    "    stratify=np.argmax(y_train, axis=1)  # important pour conserver la distribution des classes\n",
    ")\n",
    "\n",
    "\n",
    "# Si y_train est one-hot encodé, on récupère les labels réels\n",
    "y_train_labels = np.argmax(y_train, axis=1)\n",
    "\n",
    "# Calcul des classes uniques et des poids\n",
    "classes = np.unique(y_train_labels)\n",
    "class_weights = compute_class_weight(class_weight='balanced', classes=classes, y=y_train_labels)\n",
    "\n",
    "# Conversion en dictionnaire pour Keras\n",
    "class_weights_dict = dict(zip(classes, class_weights))\n",
    "\n",
    "# Entraînement du modèle avec les poids de classe\n",
    "model.fit(\n",
    "    X_train, y_train,\n",
    "    epochs=20,\n",
    "    batch_size=32,\n",
    "    validation_data=(X_val, y_val),\n",
    "    class_weight=class_weights_dict\n",
    ")\n",
    "\n",
    "# Évaluation finale\n",
    "test_loss, test_acc = model.evaluate(X_test, y_test)\n",
    "print(\"Accuracy sur le test :\", test_acc)\n",
    "\n"
   ]
  },
  {
   "cell_type": "code",
   "execution_count": 18,
   "id": "dc635cf7",
   "metadata": {
    "execution": {
     "iopub.execute_input": "2025-05-11T03:29:51.725823Z",
     "iopub.status.busy": "2025-05-11T03:29:51.725282Z",
     "iopub.status.idle": "2025-05-11T03:29:52.341857Z",
     "shell.execute_reply": "2025-05-11T03:29:52.341069Z"
    },
    "papermill": {
     "duration": 0.687798,
     "end_time": "2025-05-11T03:29:52.343193",
     "exception": false,
     "start_time": "2025-05-11T03:29:51.655395",
     "status": "completed"
    },
    "tags": []
   },
   "outputs": [
    {
     "name": "stdout",
     "output_type": "stream",
     "text": [
      "63/63 [==============================] - 0s 4ms/step\n",
      "              precision    recall  f1-score   support\n",
      "\n",
      "           0       0.37      0.48      0.42        65\n",
      "           1       0.41      0.60      0.49       103\n",
      "           2       0.37      0.58      0.45       220\n",
      "           3       0.31      0.52      0.39        23\n",
      "           4       0.94      0.68      0.79      1341\n",
      "           5       0.71      0.86      0.77        28\n",
      "           6       0.38      0.63      0.47       223\n",
      "\n",
      "    accuracy                           0.66      2003\n",
      "   macro avg       0.50      0.62      0.54      2003\n",
      "weighted avg       0.76      0.66      0.69      2003\n",
      "\n"
     ]
    },
    {
     "data": {
      "image/png": "[encoded data removed]",
      "text/plain": [
       "<Figure size 640x480 with 2 Axes>"
      ]
     },
     "metadata": {},
     "output_type": "display_data"
    }
   ],
   "source": [
    "y_pred = model.predict(X_test)\n",
    "y_pred_labels = np.argmax(y_pred, axis=1)\n",
    "y_true_labels = np.argmax(y_test, axis=1)\n",
    "\n",
    "print(classification_report(y_true_labels, y_pred_labels))\n",
    "\n",
    "cm = confusion_matrix(y_true_labels, y_pred_labels)\n",
    "sns.heatmap(cm, annot=True, fmt='d')\n",
    "plt.xlabel(\"Prédit\")\n",
    "plt.ylabel(\"Réel\")\n",
    "plt.show()\n"
   ]
  },
  {
   "cell_type": "code",
   "execution_count": 19,
   "id": "fb0504e5",
   "metadata": {
    "execution": {
     "iopub.execute_input": "2025-05-11T03:29:52.523465Z",
     "iopub.status.busy": "2025-05-11T03:29:52.522632Z",
     "iopub.status.idle": "2025-05-11T03:32:12.459679Z",
     "shell.execute_reply": "2025-05-11T03:32:12.459034Z"
    },
    "papermill": {
     "duration": 140.109625,
     "end_time": "2025-05-11T03:32:12.528597",
     "exception": false,
     "start_time": "2025-05-11T03:29:52.418972",
     "status": "completed"
    },
    "tags": []
   },
   "outputs": [
    {
     "name": "stdout",
     "output_type": "stream",
     "text": [
      "Accuracy sur le test : 0.7304043934098852\n",
      "\n",
      "Rapport de classification :\n",
      "               precision    recall  f1-score   support\n",
      "\n",
      "           0       0.37      0.26      0.31        65\n",
      "           1       0.51      0.45      0.47       103\n",
      "           2       0.44      0.44      0.44       220\n",
      "           3       0.29      0.09      0.13        23\n",
      "           4       0.83      0.91      0.87      1341\n",
      "           5       0.86      0.43      0.57        28\n",
      "           6       0.44      0.30      0.36       223\n",
      "\n",
      "    accuracy                           0.73      2003\n",
      "   macro avg       0.53      0.41      0.45      2003\n",
      "weighted avg       0.71      0.73      0.71      2003\n",
      "\n"
     ]
    }
   ],
   "source": [
    "from xgboost import XGBClassifier\n",
    "\n",
    "from sklearn.utils.class_weight import compute_class_weight\n",
    "import numpy as np\n",
    "from sklearn.model_selection import train_test_split\n",
    "# Séparation des features et des labels\n",
    "X = df.drop(\"label\", axis=1).values  # Doit être 2D : (n_samples, 2352)\n",
    "y = df[\"label\"].values\n",
    "\n",
    "# Vérification et aplatissement si nécessaire\n",
    "if len(X.shape) > 2:\n",
    "    X = X.reshape((X.shape[0], -1))\n",
    "\n",
    "# Calcul des poids de classe\n",
    "classes = np.unique(y)\n",
    "class_weights = compute_class_weight(class_weight='balanced', classes=classes, y=y)\n",
    "class_weight_dict = dict(zip(classes, class_weights))\n",
    "\n",
    "# Split des données en train/test\n",
    "X_train, X_test, y_train, y_test = train_test_split(\n",
    "    X, y, test_size=0.2, stratify=y, random_state=42\n",
    ")\n",
    "\n",
    "# Création du modèle XGBoost\n",
    "model = XGBClassifier(\n",
    "    objective=\"multi:softprob\",\n",
    "    num_class=len(classes),\n",
    "    eval_metric=\"mlogloss\",\n",
    "    use_label_encoder=False,\n",
    "    verbosity=1\n",
    ")\n",
    "\n",
    "# Création des poids pour chaque échantillon d'entraînement\n",
    "sample_weights = np.array([class_weight_dict[label] for label in y_train])\n",
    "\n",
    "# Entraînement du modèle\n",
    "model.fit(X_train, y_train, sample_weight=sample_weights)\n",
    "\n",
    "# Prédictions\n",
    "y_pred = model.predict(X_test)\n",
    "\n",
    "# Évaluation\n",
    "print(\"Accuracy sur le test :\", accuracy_score(y_test, y_pred))\n",
    "print(\"\\nRapport de classification :\\n\", classification_report(y_test, y_pred))"
   ]
  }
 ],
 "metadata": {
  "kaggle": {
   "accelerator": "gpu",
   "dataSources": [
    {
     "datasetId": 3695918,
     "sourceId": 9621147,
     "sourceType": "datasetVersion"
    }
   ],
   "dockerImageVersionId": 31011,
   "isGpuEnabled": true,
   "isInternetEnabled": true,
   "language": "python",
   "sourceType": "notebook"
  },
  "kernelspec": {
   "display_name": "Python 3",
   "language": "python",
   "name": "python3"
  },
  "language_info": {
   "codemirror_mode": {
    "name": "ipython",
    "version": 3
   },
   "file_extension": ".py",
   "mimetype": "text/x-python",
   "name": "python",
   "nbconvert_exporter": "python",
   "pygments_lexer": "ipython3",
   "version": "3.11.11"
  },
  "papermill": {
   "default_parameters": {},
   "duration": 312.503579,
   "end_time": "2025-05-11T03:32:16.096114",
   "environment_variables": {},
   "exception": null,
   "input_path": "__notebook__.ipynb",
   "output_path": "__notebook__.ipynb",
   "parameters": {},
   "start_time": "2025-05-11T03:27:03.592535",
   "version": "2.6.0"
  }
 },
 "nbformat": 4,
 "nbformat_minor": 5
}
