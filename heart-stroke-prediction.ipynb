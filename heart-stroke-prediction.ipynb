{
 "cells": [
  {
   "cell_type": "code",
   "execution_count": 1,
   "id": "ec676897",
   "metadata": {
    "_cell_guid": "b1076dfc-b9ad-4769-8c92-a6c4dae69d19",
    "_uuid": "8f2839f25d086af736a60e9eeb907d3b93b6e0e5",
    "execution": {
     "iopub.execute_input": "2025-05-09T05:32:31.455474Z",
     "iopub.status.busy": "2025-05-09T05:32:31.454862Z",
     "iopub.status.idle": "2025-05-09T05:32:36.296177Z",
     "shell.execute_reply": "2025-05-09T05:32:36.295027Z"
    },
    "papermill": {
     "duration": 4.850555,
     "end_time": "2025-05-09T05:32:36.297793",
     "exception": false,
     "start_time": "2025-05-09T05:32:31.447238",
     "status": "completed"
    },
    "tags": []
   },
   "outputs": [],
   "source": [
    "# Importation des bibliothèques\n",
    "import pandas as pd\n",
    "import matplotlib.pyplot as plt\n",
    "from sklearn import datasets, preprocessing, model_selection, metrics\n",
    "import numpy as np\n",
    "from sklearn.preprocessing import MinMaxScaler\n",
    "\n",
    "import seaborn as sns\n",
    "from sklearn.preprocessing import LabelEncoder, StandardScaler\n",
    "from sklearn.model_selection import train_test_split\n",
    "from sklearn.preprocessing import StandardScaler\n",
    "from sklearn.linear_model import LogisticRegression\n",
    "from sklearn.metrics import accuracy_score, confusion_matrix, classification_report, roc_curve, roc_auc_score \n",
    "\n",
    "\n",
    "import warnings\n",
    "warnings.filterwarnings(\"ignore\")"
   ]
  },
  {
   "cell_type": "markdown",
   "id": "70168775",
   "metadata": {
    "papermill": {
     "duration": 0.004857,
     "end_time": "2025-05-09T05:32:36.308439",
     "exception": false,
     "start_time": "2025-05-09T05:32:36.303582",
     "status": "completed"
    },
    "tags": []
   },
   "source": [
    "**Prétraitement des Données**"
   ]
  },
  {
   "cell_type": "code",
   "execution_count": 2,
   "id": "629927d0",
   "metadata": {
    "execution": {
     "iopub.execute_input": "2025-05-09T05:32:36.321414Z",
     "iopub.status.busy": "2025-05-09T05:32:36.320796Z",
     "iopub.status.idle": "2025-05-09T05:32:36.458846Z",
     "shell.execute_reply": "2025-05-09T05:32:36.457754Z"
    },
    "papermill": {
     "duration": 0.14577,
     "end_time": "2025-05-09T05:32:36.460531",
     "exception": false,
     "start_time": "2025-05-09T05:32:36.314761",
     "status": "completed"
    },
    "tags": []
   },
   "outputs": [],
   "source": [
    "df= pd.read_csv(\"/kaggle/input/basic-datasets/stroke.csv\")\n"
   ]
  },
  {
   "cell_type": "code",
   "execution_count": 3,
   "id": "cf12e4c7",
   "metadata": {
    "execution": {
     "iopub.execute_input": "2025-05-09T05:32:36.474085Z",
     "iopub.status.busy": "2025-05-09T05:32:36.473730Z",
     "iopub.status.idle": "2025-05-09T05:32:36.505999Z",
     "shell.execute_reply": "2025-05-09T05:32:36.504914Z"
    },
    "papermill": {
     "duration": 0.04177,
     "end_time": "2025-05-09T05:32:36.507966",
     "exception": false,
     "start_time": "2025-05-09T05:32:36.466196",
     "status": "completed"
    },
    "tags": []
   },
   "outputs": [
    {
     "data": {
      "text/html": [
       "<div>\n",
       "<style scoped>\n",
       "    .dataframe tbody tr th:only-of-type {\n",
       "        vertical-align: middle;\n",
       "    }\n",
       "\n",
       "    .dataframe tbody tr th {\n",
       "        vertical-align: top;\n",
       "    }\n",
       "\n",
       "    .dataframe thead th {\n",
       "        text-align: right;\n",
       "    }\n",
       "</style>\n",
       "<table border=\"1\" class=\"dataframe\">\n",
       "  <thead>\n",
       "    <tr style=\"text-align: right;\">\n",
       "      <th></th>\n",
       "      <th>id</th>\n",
       "      <th>gender</th>\n",
       "      <th>age</th>\n",
       "      <th>hypertension</th>\n",
       "      <th>heart_disease</th>\n",
       "      <th>ever_married</th>\n",
       "      <th>work_type</th>\n",
       "      <th>Residence_type</th>\n",
       "      <th>avg_glucose_level</th>\n",
       "      <th>bmi</th>\n",
       "      <th>smoking_status</th>\n",
       "      <th>stroke</th>\n",
       "    </tr>\n",
       "  </thead>\n",
       "  <tbody>\n",
       "    <tr>\n",
       "      <th>0</th>\n",
       "      <td>30669</td>\n",
       "      <td>Male</td>\n",
       "      <td>3.0</td>\n",
       "      <td>0</td>\n",
       "      <td>0</td>\n",
       "      <td>No</td>\n",
       "      <td>children</td>\n",
       "      <td>Rural</td>\n",
       "      <td>95.12</td>\n",
       "      <td>18.0</td>\n",
       "      <td>NaN</td>\n",
       "      <td>0</td>\n",
       "    </tr>\n",
       "    <tr>\n",
       "      <th>1</th>\n",
       "      <td>30468</td>\n",
       "      <td>Male</td>\n",
       "      <td>58.0</td>\n",
       "      <td>1</td>\n",
       "      <td>0</td>\n",
       "      <td>Yes</td>\n",
       "      <td>Private</td>\n",
       "      <td>Urban</td>\n",
       "      <td>87.96</td>\n",
       "      <td>39.2</td>\n",
       "      <td>never smoked</td>\n",
       "      <td>0</td>\n",
       "    </tr>\n",
       "    <tr>\n",
       "      <th>2</th>\n",
       "      <td>16523</td>\n",
       "      <td>Female</td>\n",
       "      <td>8.0</td>\n",
       "      <td>0</td>\n",
       "      <td>0</td>\n",
       "      <td>No</td>\n",
       "      <td>Private</td>\n",
       "      <td>Urban</td>\n",
       "      <td>110.89</td>\n",
       "      <td>17.6</td>\n",
       "      <td>NaN</td>\n",
       "      <td>0</td>\n",
       "    </tr>\n",
       "    <tr>\n",
       "      <th>3</th>\n",
       "      <td>56543</td>\n",
       "      <td>Female</td>\n",
       "      <td>70.0</td>\n",
       "      <td>0</td>\n",
       "      <td>0</td>\n",
       "      <td>Yes</td>\n",
       "      <td>Private</td>\n",
       "      <td>Rural</td>\n",
       "      <td>69.04</td>\n",
       "      <td>35.9</td>\n",
       "      <td>formerly smoked</td>\n",
       "      <td>0</td>\n",
       "    </tr>\n",
       "    <tr>\n",
       "      <th>4</th>\n",
       "      <td>46136</td>\n",
       "      <td>Male</td>\n",
       "      <td>14.0</td>\n",
       "      <td>0</td>\n",
       "      <td>0</td>\n",
       "      <td>No</td>\n",
       "      <td>Never_worked</td>\n",
       "      <td>Rural</td>\n",
       "      <td>161.28</td>\n",
       "      <td>19.1</td>\n",
       "      <td>NaN</td>\n",
       "      <td>0</td>\n",
       "    </tr>\n",
       "    <tr>\n",
       "      <th>5</th>\n",
       "      <td>32257</td>\n",
       "      <td>Female</td>\n",
       "      <td>47.0</td>\n",
       "      <td>0</td>\n",
       "      <td>0</td>\n",
       "      <td>Yes</td>\n",
       "      <td>Private</td>\n",
       "      <td>Urban</td>\n",
       "      <td>210.95</td>\n",
       "      <td>50.1</td>\n",
       "      <td>NaN</td>\n",
       "      <td>0</td>\n",
       "    </tr>\n",
       "    <tr>\n",
       "      <th>6</th>\n",
       "      <td>52800</td>\n",
       "      <td>Female</td>\n",
       "      <td>52.0</td>\n",
       "      <td>0</td>\n",
       "      <td>0</td>\n",
       "      <td>Yes</td>\n",
       "      <td>Private</td>\n",
       "      <td>Urban</td>\n",
       "      <td>77.59</td>\n",
       "      <td>17.7</td>\n",
       "      <td>formerly smoked</td>\n",
       "      <td>0</td>\n",
       "    </tr>\n",
       "    <tr>\n",
       "      <th>7</th>\n",
       "      <td>41413</td>\n",
       "      <td>Female</td>\n",
       "      <td>75.0</td>\n",
       "      <td>0</td>\n",
       "      <td>1</td>\n",
       "      <td>Yes</td>\n",
       "      <td>Self-employed</td>\n",
       "      <td>Rural</td>\n",
       "      <td>243.53</td>\n",
       "      <td>27.0</td>\n",
       "      <td>never smoked</td>\n",
       "      <td>0</td>\n",
       "    </tr>\n",
       "    <tr>\n",
       "      <th>8</th>\n",
       "      <td>15266</td>\n",
       "      <td>Female</td>\n",
       "      <td>32.0</td>\n",
       "      <td>0</td>\n",
       "      <td>0</td>\n",
       "      <td>Yes</td>\n",
       "      <td>Private</td>\n",
       "      <td>Rural</td>\n",
       "      <td>77.67</td>\n",
       "      <td>32.3</td>\n",
       "      <td>smokes</td>\n",
       "      <td>0</td>\n",
       "    </tr>\n",
       "  </tbody>\n",
       "</table>\n",
       "</div>"
      ],
      "text/plain": [
       "      id  gender   age  hypertension  heart_disease ever_married  \\\n",
       "0  30669    Male   3.0             0              0           No   \n",
       "1  30468    Male  58.0             1              0          Yes   \n",
       "2  16523  Female   8.0             0              0           No   \n",
       "3  56543  Female  70.0             0              0          Yes   \n",
       "4  46136    Male  14.0             0              0           No   \n",
       "5  32257  Female  47.0             0              0          Yes   \n",
       "6  52800  Female  52.0             0              0          Yes   \n",
       "7  41413  Female  75.0             0              1          Yes   \n",
       "8  15266  Female  32.0             0              0          Yes   \n",
       "\n",
       "       work_type Residence_type  avg_glucose_level   bmi   smoking_status  \\\n",
       "0       children          Rural              95.12  18.0              NaN   \n",
       "1        Private          Urban              87.96  39.2     never smoked   \n",
       "2        Private          Urban             110.89  17.6              NaN   \n",
       "3        Private          Rural              69.04  35.9  formerly smoked   \n",
       "4   Never_worked          Rural             161.28  19.1              NaN   \n",
       "5        Private          Urban             210.95  50.1              NaN   \n",
       "6        Private          Urban              77.59  17.7  formerly smoked   \n",
       "7  Self-employed          Rural             243.53  27.0     never smoked   \n",
       "8        Private          Rural              77.67  32.3           smokes   \n",
       "\n",
       "   stroke  \n",
       "0       0  \n",
       "1       0  \n",
       "2       0  \n",
       "3       0  \n",
       "4       0  \n",
       "5       0  \n",
       "6       0  \n",
       "7       0  \n",
       "8       0  "
      ]
     },
     "execution_count": 3,
     "metadata": {},
     "output_type": "execute_result"
    }
   ],
   "source": [
    "df.head(9)"
   ]
  },
  {
   "cell_type": "code",
   "execution_count": 4,
   "id": "69501c69",
   "metadata": {
    "execution": {
     "iopub.execute_input": "2025-05-09T05:32:36.520605Z",
     "iopub.status.busy": "2025-05-09T05:32:36.520225Z",
     "iopub.status.idle": "2025-05-09T05:32:36.557519Z",
     "shell.execute_reply": "2025-05-09T05:32:36.556230Z"
    },
    "papermill": {
     "duration": 0.045366,
     "end_time": "2025-05-09T05:32:36.559111",
     "exception": false,
     "start_time": "2025-05-09T05:32:36.513745",
     "status": "completed"
    },
    "tags": []
   },
   "outputs": [
    {
     "name": "stdout",
     "output_type": "stream",
     "text": [
      "<class 'pandas.core.frame.DataFrame'>\n",
      "RangeIndex: 43400 entries, 0 to 43399\n",
      "Data columns (total 12 columns):\n",
      " #   Column             Non-Null Count  Dtype  \n",
      "---  ------             --------------  -----  \n",
      " 0   id                 43400 non-null  int64  \n",
      " 1   gender             43400 non-null  object \n",
      " 2   age                43400 non-null  float64\n",
      " 3   hypertension       43400 non-null  int64  \n",
      " 4   heart_disease      43400 non-null  int64  \n",
      " 5   ever_married       43400 non-null  object \n",
      " 6   work_type          43400 non-null  object \n",
      " 7   Residence_type     43400 non-null  object \n",
      " 8   avg_glucose_level  43400 non-null  float64\n",
      " 9   bmi                41938 non-null  float64\n",
      " 10  smoking_status     30108 non-null  object \n",
      " 11  stroke             43400 non-null  int64  \n",
      "dtypes: float64(3), int64(4), object(5)\n",
      "memory usage: 4.0+ MB\n"
     ]
    }
   ],
   "source": [
    "df.info()"
   ]
  },
  {
   "cell_type": "code",
   "execution_count": 5,
   "id": "ba802412",
   "metadata": {
    "execution": {
     "iopub.execute_input": "2025-05-09T05:32:36.571558Z",
     "iopub.status.busy": "2025-05-09T05:32:36.571219Z",
     "iopub.status.idle": "2025-05-09T05:32:36.611494Z",
     "shell.execute_reply": "2025-05-09T05:32:36.610558Z"
    },
    "papermill": {
     "duration": 0.048913,
     "end_time": "2025-05-09T05:32:36.613755",
     "exception": false,
     "start_time": "2025-05-09T05:32:36.564842",
     "status": "completed"
    },
    "tags": []
   },
   "outputs": [
    {
     "data": {
      "text/html": [
       "<div>\n",
       "<style scoped>\n",
       "    .dataframe tbody tr th:only-of-type {\n",
       "        vertical-align: middle;\n",
       "    }\n",
       "\n",
       "    .dataframe tbody tr th {\n",
       "        vertical-align: top;\n",
       "    }\n",
       "\n",
       "    .dataframe thead th {\n",
       "        text-align: right;\n",
       "    }\n",
       "</style>\n",
       "<table border=\"1\" class=\"dataframe\">\n",
       "  <thead>\n",
       "    <tr style=\"text-align: right;\">\n",
       "      <th></th>\n",
       "      <th>age</th>\n",
       "      <th>hypertension</th>\n",
       "      <th>heart_disease</th>\n",
       "      <th>avg_glucose_level</th>\n",
       "      <th>bmi</th>\n",
       "      <th>stroke</th>\n",
       "    </tr>\n",
       "  </thead>\n",
       "  <tbody>\n",
       "    <tr>\n",
       "      <th>count</th>\n",
       "      <td>43400.000000</td>\n",
       "      <td>43400.000000</td>\n",
       "      <td>43400.000000</td>\n",
       "      <td>43400.000000</td>\n",
       "      <td>41938.000000</td>\n",
       "      <td>43400.000000</td>\n",
       "    </tr>\n",
       "    <tr>\n",
       "      <th>mean</th>\n",
       "      <td>42.217894</td>\n",
       "      <td>0.093571</td>\n",
       "      <td>0.047512</td>\n",
       "      <td>104.482750</td>\n",
       "      <td>28.605038</td>\n",
       "      <td>0.018041</td>\n",
       "    </tr>\n",
       "    <tr>\n",
       "      <th>std</th>\n",
       "      <td>22.519649</td>\n",
       "      <td>0.291235</td>\n",
       "      <td>0.212733</td>\n",
       "      <td>43.111751</td>\n",
       "      <td>7.770020</td>\n",
       "      <td>0.133103</td>\n",
       "    </tr>\n",
       "    <tr>\n",
       "      <th>min</th>\n",
       "      <td>0.080000</td>\n",
       "      <td>0.000000</td>\n",
       "      <td>0.000000</td>\n",
       "      <td>55.000000</td>\n",
       "      <td>10.100000</td>\n",
       "      <td>0.000000</td>\n",
       "    </tr>\n",
       "    <tr>\n",
       "      <th>25%</th>\n",
       "      <td>24.000000</td>\n",
       "      <td>0.000000</td>\n",
       "      <td>0.000000</td>\n",
       "      <td>77.540000</td>\n",
       "      <td>23.200000</td>\n",
       "      <td>0.000000</td>\n",
       "    </tr>\n",
       "    <tr>\n",
       "      <th>50%</th>\n",
       "      <td>44.000000</td>\n",
       "      <td>0.000000</td>\n",
       "      <td>0.000000</td>\n",
       "      <td>91.580000</td>\n",
       "      <td>27.700000</td>\n",
       "      <td>0.000000</td>\n",
       "    </tr>\n",
       "    <tr>\n",
       "      <th>75%</th>\n",
       "      <td>60.000000</td>\n",
       "      <td>0.000000</td>\n",
       "      <td>0.000000</td>\n",
       "      <td>112.070000</td>\n",
       "      <td>32.900000</td>\n",
       "      <td>0.000000</td>\n",
       "    </tr>\n",
       "    <tr>\n",
       "      <th>max</th>\n",
       "      <td>82.000000</td>\n",
       "      <td>1.000000</td>\n",
       "      <td>1.000000</td>\n",
       "      <td>291.050000</td>\n",
       "      <td>97.600000</td>\n",
       "      <td>1.000000</td>\n",
       "    </tr>\n",
       "  </tbody>\n",
       "</table>\n",
       "</div>"
      ],
      "text/plain": [
       "                age  hypertension  heart_disease  avg_glucose_level  \\\n",
       "count  43400.000000  43400.000000   43400.000000       43400.000000   \n",
       "mean      42.217894      0.093571       0.047512         104.482750   \n",
       "std       22.519649      0.291235       0.212733          43.111751   \n",
       "min        0.080000      0.000000       0.000000          55.000000   \n",
       "25%       24.000000      0.000000       0.000000          77.540000   \n",
       "50%       44.000000      0.000000       0.000000          91.580000   \n",
       "75%       60.000000      0.000000       0.000000         112.070000   \n",
       "max       82.000000      1.000000       1.000000         291.050000   \n",
       "\n",
       "                bmi        stroke  \n",
       "count  41938.000000  43400.000000  \n",
       "mean      28.605038      0.018041  \n",
       "std        7.770020      0.133103  \n",
       "min       10.100000      0.000000  \n",
       "25%       23.200000      0.000000  \n",
       "50%       27.700000      0.000000  \n",
       "75%       32.900000      0.000000  \n",
       "max       97.600000      1.000000  "
      ]
     },
     "execution_count": 5,
     "metadata": {},
     "output_type": "execute_result"
    }
   ],
   "source": [
    "df.drop(columns='id').describe()"
   ]
  },
  {
   "cell_type": "code",
   "execution_count": 6,
   "id": "ede9c074",
   "metadata": {
    "execution": {
     "iopub.execute_input": "2025-05-09T05:32:36.626858Z",
     "iopub.status.busy": "2025-05-09T05:32:36.626519Z",
     "iopub.status.idle": "2025-05-09T05:32:36.646254Z",
     "shell.execute_reply": "2025-05-09T05:32:36.645285Z"
    },
    "papermill": {
     "duration": 0.028033,
     "end_time": "2025-05-09T05:32:36.647760",
     "exception": false,
     "start_time": "2025-05-09T05:32:36.619727",
     "status": "completed"
    },
    "tags": []
   },
   "outputs": [
    {
     "data": {
      "text/plain": [
       "id                       0\n",
       "gender                   0\n",
       "age                      0\n",
       "hypertension             0\n",
       "heart_disease            0\n",
       "ever_married             0\n",
       "work_type                0\n",
       "Residence_type           0\n",
       "avg_glucose_level        0\n",
       "bmi                   1462\n",
       "smoking_status       13292\n",
       "stroke                   0\n",
       "dtype: int64"
      ]
     },
     "execution_count": 6,
     "metadata": {},
     "output_type": "execute_result"
    }
   ],
   "source": [
    "df.isnull().sum()"
   ]
  },
  {
   "cell_type": "code",
   "execution_count": 7,
   "id": "2dd6a4d2",
   "metadata": {
    "execution": {
     "iopub.execute_input": "2025-05-09T05:32:36.660895Z",
     "iopub.status.busy": "2025-05-09T05:32:36.660581Z",
     "iopub.status.idle": "2025-05-09T05:32:36.668785Z",
     "shell.execute_reply": "2025-05-09T05:32:36.667843Z"
    },
    "papermill": {
     "duration": 0.016745,
     "end_time": "2025-05-09T05:32:36.670478",
     "exception": false,
     "start_time": "2025-05-09T05:32:36.653733",
     "status": "completed"
    },
    "tags": []
   },
   "outputs": [
    {
     "data": {
      "text/plain": [
       "smoking_status\n",
       "never smoked       16053\n",
       "NaN                13292\n",
       "formerly smoked     7493\n",
       "smokes              6562\n",
       "Name: count, dtype: int64"
      ]
     },
     "execution_count": 7,
     "metadata": {},
     "output_type": "execute_result"
    }
   ],
   "source": [
    "df['smoking_status'].value_counts(dropna=False)"
   ]
  },
  {
   "cell_type": "code",
   "execution_count": 8,
   "id": "4324d6a2",
   "metadata": {
    "execution": {
     "iopub.execute_input": "2025-05-09T05:32:36.683568Z",
     "iopub.status.busy": "2025-05-09T05:32:36.683243Z",
     "iopub.status.idle": "2025-05-09T05:32:36.691916Z",
     "shell.execute_reply": "2025-05-09T05:32:36.691115Z"
    },
    "papermill": {
     "duration": 0.016849,
     "end_time": "2025-05-09T05:32:36.693318",
     "exception": false,
     "start_time": "2025-05-09T05:32:36.676469",
     "status": "completed"
    },
    "tags": []
   },
   "outputs": [
    {
     "data": {
      "text/plain": [
       "hypertension\n",
       "0    39339\n",
       "1     4061\n",
       "Name: count, dtype: int64"
      ]
     },
     "execution_count": 8,
     "metadata": {},
     "output_type": "execute_result"
    }
   ],
   "source": [
    "df['hypertension'].value_counts()"
   ]
  },
  {
   "cell_type": "code",
   "execution_count": 9,
   "id": "c15ce61f",
   "metadata": {
    "execution": {
     "iopub.execute_input": "2025-05-09T05:32:36.706518Z",
     "iopub.status.busy": "2025-05-09T05:32:36.706224Z",
     "iopub.status.idle": "2025-05-09T05:32:36.714000Z",
     "shell.execute_reply": "2025-05-09T05:32:36.713027Z"
    },
    "papermill": {
     "duration": 0.01669,
     "end_time": "2025-05-09T05:32:36.715942",
     "exception": false,
     "start_time": "2025-05-09T05:32:36.699252",
     "status": "completed"
    },
    "tags": []
   },
   "outputs": [
    {
     "data": {
      "text/plain": [
       "stroke\n",
       "0    42617\n",
       "1      783\n",
       "Name: count, dtype: int64"
      ]
     },
     "execution_count": 9,
     "metadata": {},
     "output_type": "execute_result"
    }
   ],
   "source": [
    "#Distribution de la variable cible (stroke)\n",
    "df['stroke'].value_counts()"
   ]
  },
  {
   "cell_type": "code",
   "execution_count": 10,
   "id": "95c5897e",
   "metadata": {
    "execution": {
     "iopub.execute_input": "2025-05-09T05:32:36.729974Z",
     "iopub.status.busy": "2025-05-09T05:32:36.729649Z",
     "iopub.status.idle": "2025-05-09T05:32:36.738166Z",
     "shell.execute_reply": "2025-05-09T05:32:36.737259Z"
    },
    "papermill": {
     "duration": 0.017445,
     "end_time": "2025-05-09T05:32:36.739688",
     "exception": false,
     "start_time": "2025-05-09T05:32:36.722243",
     "status": "completed"
    },
    "tags": []
   },
   "outputs": [
    {
     "data": {
      "text/plain": [
       "heart_disease\n",
       "0    41338\n",
       "1     2062\n",
       "Name: count, dtype: int64"
      ]
     },
     "execution_count": 10,
     "metadata": {},
     "output_type": "execute_result"
    }
   ],
   "source": [
    "df['heart_disease'].value_counts() "
   ]
  },
  {
   "cell_type": "code",
   "execution_count": 11,
   "id": "afb86d69",
   "metadata": {
    "execution": {
     "iopub.execute_input": "2025-05-09T05:32:36.753473Z",
     "iopub.status.busy": "2025-05-09T05:32:36.753167Z",
     "iopub.status.idle": "2025-05-09T05:32:36.762598Z",
     "shell.execute_reply": "2025-05-09T05:32:36.761708Z"
    },
    "papermill": {
     "duration": 0.018246,
     "end_time": "2025-05-09T05:32:36.764125",
     "exception": false,
     "start_time": "2025-05-09T05:32:36.745879",
     "status": "completed"
    },
    "tags": []
   },
   "outputs": [
    {
     "data": {
      "text/plain": [
       "ever_married\n",
       "Yes    27938\n",
       "No     15462\n",
       "Name: count, dtype: int64"
      ]
     },
     "execution_count": 11,
     "metadata": {},
     "output_type": "execute_result"
    }
   ],
   "source": [
    "df['ever_married'].value_counts() "
   ]
  },
  {
   "cell_type": "code",
   "execution_count": 12,
   "id": "ecea10c8",
   "metadata": {
    "execution": {
     "iopub.execute_input": "2025-05-09T05:32:36.778927Z",
     "iopub.status.busy": "2025-05-09T05:32:36.778615Z",
     "iopub.status.idle": "2025-05-09T05:32:36.788208Z",
     "shell.execute_reply": "2025-05-09T05:32:36.787207Z"
    },
    "papermill": {
     "duration": 0.01886,
     "end_time": "2025-05-09T05:32:36.789762",
     "exception": false,
     "start_time": "2025-05-09T05:32:36.770902",
     "status": "completed"
    },
    "tags": []
   },
   "outputs": [
    {
     "data": {
      "text/plain": [
       "Residence_type\n",
       "Urban    21756\n",
       "Rural    21644\n",
       "Name: count, dtype: int64"
      ]
     },
     "execution_count": 12,
     "metadata": {},
     "output_type": "execute_result"
    }
   ],
   "source": [
    "df['Residence_type'].value_counts() "
   ]
  },
  {
   "cell_type": "code",
   "execution_count": 13,
   "id": "b22b8b76",
   "metadata": {
    "execution": {
     "iopub.execute_input": "2025-05-09T05:32:36.804272Z",
     "iopub.status.busy": "2025-05-09T05:32:36.803583Z",
     "iopub.status.idle": "2025-05-09T05:32:36.814403Z",
     "shell.execute_reply": "2025-05-09T05:32:36.813177Z"
    },
    "papermill": {
     "duration": 0.019609,
     "end_time": "2025-05-09T05:32:36.816145",
     "exception": false,
     "start_time": "2025-05-09T05:32:36.796536",
     "status": "completed"
    },
    "tags": []
   },
   "outputs": [
    {
     "data": {
      "text/plain": [
       "gender\n",
       "Female    25665\n",
       "Male      17724\n",
       "Other        11\n",
       "Name: count, dtype: int64"
      ]
     },
     "execution_count": 13,
     "metadata": {},
     "output_type": "execute_result"
    }
   ],
   "source": [
    "df['gender'].value_counts() "
   ]
  },
  {
   "cell_type": "code",
   "execution_count": 14,
   "id": "e1180b54",
   "metadata": {
    "execution": {
     "iopub.execute_input": "2025-05-09T05:32:36.831402Z",
     "iopub.status.busy": "2025-05-09T05:32:36.831101Z",
     "iopub.status.idle": "2025-05-09T05:32:36.840683Z",
     "shell.execute_reply": "2025-05-09T05:32:36.839572Z"
    },
    "papermill": {
     "duration": 0.019363,
     "end_time": "2025-05-09T05:32:36.842373",
     "exception": false,
     "start_time": "2025-05-09T05:32:36.823010",
     "status": "completed"
    },
    "tags": []
   },
   "outputs": [],
   "source": [
    "df['smoking_status']= df['smoking_status'].fillna('Unknown')"
   ]
  },
  {
   "cell_type": "code",
   "execution_count": 15,
   "id": "9bbcc1a3",
   "metadata": {
    "execution": {
     "iopub.execute_input": "2025-05-09T05:32:36.857066Z",
     "iopub.status.busy": "2025-05-09T05:32:36.856729Z",
     "iopub.status.idle": "2025-05-09T05:32:40.512572Z",
     "shell.execute_reply": "2025-05-09T05:32:40.511489Z"
    },
    "papermill": {
     "duration": 3.665031,
     "end_time": "2025-05-09T05:32:40.514382",
     "exception": false,
     "start_time": "2025-05-09T05:32:36.849351",
     "status": "completed"
    },
    "tags": []
   },
   "outputs": [
    {
     "data": {
      "text/plain": [
       "0"
      ]
     },
     "execution_count": 15,
     "metadata": {},
     "output_type": "execute_result"
    }
   ],
   "source": [
    "from sklearn.impute import KNNImputer\n",
    "imputer = KNNImputer(n_neighbors=5)\n",
    "df[['bmi']] = imputer.fit_transform(df[['bmi']])\n",
    "df['bmi'].isnull().sum()"
   ]
  },
  {
   "cell_type": "markdown",
   "id": "a47cb16d",
   "metadata": {
    "papermill": {
     "duration": 0.006537,
     "end_time": "2025-05-09T05:32:40.527688",
     "exception": false,
     "start_time": "2025-05-09T05:32:40.521151",
     "status": "completed"
    },
    "tags": []
   },
   "source": [
    "**Analyse Exploratoire des Données (EDA)**"
   ]
  },
  {
   "cell_type": "code",
   "execution_count": 16,
   "id": "e192f9e7",
   "metadata": {
    "execution": {
     "iopub.execute_input": "2025-05-09T05:32:40.542343Z",
     "iopub.status.busy": "2025-05-09T05:32:40.541980Z",
     "iopub.status.idle": "2025-05-09T05:32:40.778679Z",
     "shell.execute_reply": "2025-05-09T05:32:40.777517Z"
    },
    "papermill": {
     "duration": 0.245705,
     "end_time": "2025-05-09T05:32:40.780278",
     "exception": false,
     "start_time": "2025-05-09T05:32:40.534573",
     "status": "completed"
    },
    "tags": []
   },
   "outputs": [
    {
     "data": {
      "image/png": "[encoded data removed]",
      "text/plain": [
       "<Figure size 640x480 with 1 Axes>"
      ]
     },
     "metadata": {},
     "output_type": "display_data"
    }
   ],
   "source": [
    "sns.boxplot(data=df, x='stroke', y='age')\n",
    "plt.title('Répartition de l\\'âge selon stroke')\n",
    "plt.show()\n"
   ]
  },
  {
   "cell_type": "code",
   "execution_count": 17,
   "id": "b1ba649f",
   "metadata": {
    "execution": {
     "iopub.execute_input": "2025-05-09T05:32:40.797348Z",
     "iopub.status.busy": "2025-05-09T05:32:40.796166Z",
     "iopub.status.idle": "2025-05-09T05:32:40.998773Z",
     "shell.execute_reply": "2025-05-09T05:32:40.997757Z"
    },
    "papermill": {
     "duration": 0.213311,
     "end_time": "2025-05-09T05:32:41.000551",
     "exception": false,
     "start_time": "2025-05-09T05:32:40.787240",
     "status": "completed"
    },
    "tags": []
   },
   "outputs": [
    {
     "data": {
      "text/plain": [
       "Text(0.5, 1.0, 'Niveau de glucose moyen selon stroke')"
      ]
     },
     "execution_count": 17,
     "metadata": {},
     "output_type": "execute_result"
    },
    {
     "data": {
      "image/png": "[encoded data removed]",
      "text/plain": [
       "<Figure size 640x480 with 1 Axes>"
      ]
     },
     "metadata": {},
     "output_type": "display_data"
    }
   ],
   "source": [
    "sns.boxplot(data=df, x='stroke', y='avg_glucose_level')\n",
    "plt.title('Niveau de glucose moyen selon stroke')"
   ]
  },
  {
   "cell_type": "code",
   "execution_count": 18,
   "id": "bda6f77c",
   "metadata": {
    "execution": {
     "iopub.execute_input": "2025-05-09T05:32:41.017020Z",
     "iopub.status.busy": "2025-05-09T05:32:41.016721Z",
     "iopub.status.idle": "2025-05-09T05:32:41.187918Z",
     "shell.execute_reply": "2025-05-09T05:32:41.186828Z"
    },
    "papermill": {
     "duration": 0.181361,
     "end_time": "2025-05-09T05:32:41.189639",
     "exception": false,
     "start_time": "2025-05-09T05:32:41.008278",
     "status": "completed"
    },
    "tags": []
   },
   "outputs": [
    {
     "data": {
      "text/plain": [
       "Text(0.5, 1.0, 'IMC (bmi) selon stroke')"
      ]
     },
     "execution_count": 18,
     "metadata": {},
     "output_type": "execute_result"
    },
    {
     "data": {
      "image/png": "[encoded data removed]",
      "text/plain": [
       "<Figure size 640x480 with 1 Axes>"
      ]
     },
     "metadata": {},
     "output_type": "display_data"
    }
   ],
   "source": [
    "sns.boxplot(data=df,x='stroke',y='bmi')\n",
    "plt.title('IMC (bmi) selon stroke')"
   ]
  },
  {
   "cell_type": "code",
   "execution_count": 19,
   "id": "3c6f12dc",
   "metadata": {
    "execution": {
     "iopub.execute_input": "2025-05-09T05:32:41.207135Z",
     "iopub.status.busy": "2025-05-09T05:32:41.206814Z",
     "iopub.status.idle": "2025-05-09T05:32:41.835342Z",
     "shell.execute_reply": "2025-05-09T05:32:41.834123Z"
    },
    "papermill": {
     "duration": 0.639209,
     "end_time": "2025-05-09T05:32:41.836943",
     "exception": false,
     "start_time": "2025-05-09T05:32:41.197734",
     "status": "completed"
    },
    "tags": []
   },
   "outputs": [
    {
     "data": {
      "text/plain": [
       "(array([0, 1, 2, 3]),\n",
       " [Text(0, 0, 'Unknown'),\n",
       "  Text(1, 0, 'never smoked'),\n",
       "  Text(2, 0, 'formerly smoked'),\n",
       "  Text(3, 0, 'smokes')])"
      ]
     },
     "execution_count": 19,
     "metadata": {},
     "output_type": "execute_result"
    },
    {
     "data": {
      "image/png": "[encoded data removed]",
      "text/plain": [
       "<Figure size 640x480 with 1 Axes>"
      ]
     },
     "metadata": {},
     "output_type": "display_data"
    }
   ],
   "source": [
    "sns.barplot(data=df, x='smoking_status', y='stroke')\n",
    "plt.title('Taux de stroke selon le statut de tabagisme')\n",
    "plt.xticks(rotation=45)\n"
   ]
  },
  {
   "cell_type": "code",
   "execution_count": 20,
   "id": "22595143",
   "metadata": {
    "execution": {
     "iopub.execute_input": "2025-05-09T05:32:41.858179Z",
     "iopub.status.busy": "2025-05-09T05:32:41.857822Z",
     "iopub.status.idle": "2025-05-09T05:32:42.467062Z",
     "shell.execute_reply": "2025-05-09T05:32:42.466112Z"
    },
    "papermill": {
     "duration": 0.622625,
     "end_time": "2025-05-09T05:32:42.468706",
     "exception": false,
     "start_time": "2025-05-09T05:32:41.846081",
     "status": "completed"
    },
    "tags": []
   },
   "outputs": [
    {
     "data": {
      "text/plain": [
       "Text(0.5, 1.0, 'Taux de stroke selon le type de residance ')"
      ]
     },
     "execution_count": 20,
     "metadata": {},
     "output_type": "execute_result"
    },
    {
     "data": {
      "image/png": "[encoded data removed]",
      "text/plain": [
       "<Figure size 640x480 with 1 Axes>"
      ]
     },
     "metadata": {},
     "output_type": "display_data"
    }
   ],
   "source": [
    "sns.barplot(data=df,x='Residence_type',y='stroke' )\n",
    "plt.title('Taux de stroke selon le type de residance ' )"
   ]
  },
  {
   "cell_type": "code",
   "execution_count": 21,
   "id": "0e93f57d",
   "metadata": {
    "execution": {
     "iopub.execute_input": "2025-05-09T05:32:42.490956Z",
     "iopub.status.busy": "2025-05-09T05:32:42.490541Z",
     "iopub.status.idle": "2025-05-09T05:32:43.228040Z",
     "shell.execute_reply": "2025-05-09T05:32:43.226861Z"
    },
    "papermill": {
     "duration": 0.751411,
     "end_time": "2025-05-09T05:32:43.230312",
     "exception": false,
     "start_time": "2025-05-09T05:32:42.478901",
     "status": "completed"
    },
    "tags": []
   },
   "outputs": [
    {
     "data": {
      "image/png": "[encoded data removed]",
      "text/plain": [
       "<Figure size 640x480 with 1 Axes>"
      ]
     },
     "metadata": {},
     "output_type": "display_data"
    }
   ],
   "source": [
    "sns.barplot(data=df, x='work_type', y='stroke')\n",
    "plt.title('Taux de stroke selon le type de travail')\n",
    "plt.xticks(rotation=45)\n",
    "plt.show()"
   ]
  },
  {
   "cell_type": "code",
   "execution_count": 22,
   "id": "54f3bf5a",
   "metadata": {
    "execution": {
     "iopub.execute_input": "2025-05-09T05:32:43.260525Z",
     "iopub.status.busy": "2025-05-09T05:32:43.260207Z",
     "iopub.status.idle": "2025-05-09T05:32:43.649467Z",
     "shell.execute_reply": "2025-05-09T05:32:43.648427Z"
    },
    "papermill": {
     "duration": 0.403966,
     "end_time": "2025-05-09T05:32:43.651833",
     "exception": false,
     "start_time": "2025-05-09T05:32:43.247867",
     "status": "completed"
    },
    "tags": []
   },
   "outputs": [
    {
     "data": {
      "image/png": "[encoded data removed]",
      "text/plain": [
       "<Figure size 1000x600 with 2 Axes>"
      ]
     },
     "metadata": {},
     "output_type": "display_data"
    }
   ],
   "source": [
    "numeric_cols = df.select_dtypes(include='number')\n",
    "\n",
    "plt.figure(figsize=(10, 6))\n",
    "sns.heatmap(numeric_cols.corr(), annot=True, cmap='coolwarm', fmt=\".2f\")\n",
    "plt.title('Matrice de corrélation')\n",
    "plt.show()\n"
   ]
  },
  {
   "cell_type": "code",
   "execution_count": 23,
   "id": "5088bb8d",
   "metadata": {
    "execution": {
     "iopub.execute_input": "2025-05-09T05:32:43.678615Z",
     "iopub.status.busy": "2025-05-09T05:32:43.677675Z",
     "iopub.status.idle": "2025-05-09T05:32:43.714819Z",
     "shell.execute_reply": "2025-05-09T05:32:43.713838Z"
    },
    "papermill": {
     "duration": 0.05241,
     "end_time": "2025-05-09T05:32:43.716868",
     "exception": false,
     "start_time": "2025-05-09T05:32:43.664458",
     "status": "completed"
    },
    "tags": []
   },
   "outputs": [],
   "source": [
    "# One-Hot Encoding\n",
    "cat_columns = ['gender', 'ever_married', 'work_type', 'Residence_type', 'smoking_status']\n",
    "\n",
    "# Appliquer One-Hot Encoding\n",
    "df = pd.get_dummies(df, columns=cat_columns, drop_first=True)"
   ]
  },
  {
   "cell_type": "markdown",
   "id": "9864761e",
   "metadata": {
    "papermill": {
     "duration": 0.013609,
     "end_time": "2025-05-09T05:32:43.743202",
     "exception": false,
     "start_time": "2025-05-09T05:32:43.729593",
     "status": "completed"
    },
    "tags": []
   },
   "source": [
    "**Split des données (train/test)**"
   ]
  },
  {
   "cell_type": "markdown",
   "id": "1426129b",
   "metadata": {
    "papermill": {
     "duration": 0.013143,
     "end_time": "2025-05-09T05:32:43.769185",
     "exception": false,
     "start_time": "2025-05-09T05:32:43.756042",
     "status": "completed"
    },
    "tags": []
   },
   "source": [
    "**Cost-Sensitive Learning & LogisticRegression**"
   ]
  },
  {
   "cell_type": "code",
   "execution_count": 24,
   "id": "a1985118",
   "metadata": {
    "execution": {
     "iopub.execute_input": "2025-05-09T05:32:43.796617Z",
     "iopub.status.busy": "2025-05-09T05:32:43.796302Z",
     "iopub.status.idle": "2025-05-09T05:32:44.179015Z",
     "shell.execute_reply": "2025-05-09T05:32:44.177619Z"
    },
    "papermill": {
     "duration": 0.399355,
     "end_time": "2025-05-09T05:32:44.181309",
     "exception": true,
     "start_time": "2025-05-09T05:32:43.781954",
     "status": "failed"
    },
    "tags": []
   },
   "outputs": [
    {
     "name": "stdout",
     "output_type": "stream",
     "text": [
      "Accuracy Score: 0.7345622119815668\n"
     ]
    },
    {
     "ename": "NameError",
     "evalue": "name 'precision_score' is not defined",
     "output_type": "error",
     "traceback": [
      "\u001b[0;31m---------------------------------------------------------------------------\u001b[0m",
      "\u001b[0;31mNameError\u001b[0m                                 Traceback (most recent call last)",
      "\u001b[0;32m/tmp/ipykernel_13/1728041381.py\u001b[0m in \u001b[0;36m<cell line: 0>\u001b[0;34m()\u001b[0m\n\u001b[1;32m     25\u001b[0m \u001b[0;34m\u001b[0m\u001b[0m\n\u001b[1;32m     26\u001b[0m \u001b[0mprint\u001b[0m\u001b[0;34m(\u001b[0m\u001b[0;34m\"Accuracy Score:\"\u001b[0m\u001b[0;34m,\u001b[0m \u001b[0maccuracy_score\u001b[0m\u001b[0;34m(\u001b[0m\u001b[0my_test\u001b[0m\u001b[0;34m,\u001b[0m \u001b[0my_pred\u001b[0m\u001b[0;34m)\u001b[0m\u001b[0;34m)\u001b[0m\u001b[0;34m\u001b[0m\u001b[0;34m\u001b[0m\u001b[0m\n\u001b[0;32m---> 27\u001b[0;31m \u001b[0mprint\u001b[0m\u001b[0;34m(\u001b[0m\u001b[0;34m\"Precision Score:\"\u001b[0m\u001b[0;34m,\u001b[0m \u001b[0mprecision_score\u001b[0m\u001b[0;34m(\u001b[0m\u001b[0my_test\u001b[0m\u001b[0;34m,\u001b[0m \u001b[0my_pred\u001b[0m\u001b[0;34m)\u001b[0m\u001b[0;34m)\u001b[0m\u001b[0;34m\u001b[0m\u001b[0;34m\u001b[0m\u001b[0m\n\u001b[0m\u001b[1;32m     28\u001b[0m \u001b[0mprint\u001b[0m\u001b[0;34m(\u001b[0m\u001b[0;34m\"Recall Score:\"\u001b[0m\u001b[0;34m,\u001b[0m \u001b[0mrecall_score\u001b[0m\u001b[0;34m(\u001b[0m\u001b[0my_test\u001b[0m\u001b[0;34m,\u001b[0m \u001b[0my_pred\u001b[0m\u001b[0;34m)\u001b[0m\u001b[0;34m)\u001b[0m\u001b[0;34m\u001b[0m\u001b[0;34m\u001b[0m\u001b[0m\n\u001b[1;32m     29\u001b[0m \u001b[0mprint\u001b[0m\u001b[0;34m(\u001b[0m\u001b[0;34m\"F1 Score:\"\u001b[0m\u001b[0;34m,\u001b[0m \u001b[0mf1_score\u001b[0m\u001b[0;34m(\u001b[0m\u001b[0my_test\u001b[0m\u001b[0;34m,\u001b[0m \u001b[0my_pred\u001b[0m\u001b[0;34m)\u001b[0m\u001b[0;34m)\u001b[0m\u001b[0;34m\u001b[0m\u001b[0;34m\u001b[0m\u001b[0m\n",
      "\u001b[0;31mNameError\u001b[0m: name 'precision_score' is not defined"
     ]
    }
   ],
   "source": [
    "from sklearn.linear_model import LogisticRegression\n",
    "\n",
    "features = [\n",
    "    \"age\", \"avg_glucose_level\", \"bmi\",\n",
    "    \"ever_married_Yes\", \"heart_disease\", \"hypertension\",\n",
    "    \"work_type_Self-employed\", \"Residence_type_Urban\",\n",
    "    \"gender_Male\", \"work_type_children\",\n",
    "    \"smoking_status_never smoked\", \"gender_Other\",\n",
    "    \"work_type_Private\", \"smoking_status_formerly smoked\",\n",
    "    \"smoking_status_smokes\", \"work_type_Never_worked\"\n",
    "]\n",
    "\n",
    "X = df[features]\n",
    "y = df[\"stroke\"]\n",
    "\n",
    "X_train, X_test, y_train, y_test = train_test_split(X, y, test_size=0.3, random_state=42)\n",
    "\n",
    "# Logistic Regression with Class Weights \n",
    "model = LogisticRegression(class_weight=\"balanced\", max_iter=1000, solver='liblinear')\n",
    "model.fit(X_train, y_train)\n",
    "\n",
    "# Predictions and Evaluation \n",
    "y_pred = model.predict(X_test)\n",
    "y_proba = model.predict_proba(X_test)[:, 1]\n",
    "\n",
    "print(\"Accuracy Score:\", accuracy_score(y_test, y_pred))\n",
    "print(\"Precision Score:\", precision_score(y_test, y_pred))\n",
    "print(\"Recall Score:\", recall_score(y_test, y_pred))\n",
    "print(\"F1 Score:\", f1_score(y_test, y_pred))\n",
    "print(\"Confusion Matrix:\\n\", confusion_matrix(y_test, y_pred))\n",
    "print(\"ROC AUC Score:\", roc_auc_score(y_test, y_proba))\n"
   ]
  },
  {
   "cell_type": "code",
   "execution_count": null,
   "id": "f2313acf",
   "metadata": {
    "execution": {
     "iopub.execute_input": "2025-05-09T05:12:52.318662Z",
     "iopub.status.busy": "2025-05-09T05:12:52.318347Z",
     "iopub.status.idle": "2025-05-09T05:12:52.538693Z",
     "shell.execute_reply": "2025-05-09T05:12:52.537686Z",
     "shell.execute_reply.started": "2025-05-09T05:12:52.318638Z"
    },
    "papermill": {
     "duration": null,
     "end_time": null,
     "exception": null,
     "start_time": null,
     "status": "pending"
    },
    "tags": []
   },
   "outputs": [],
   "source": [
    "from sklearn.tree import DecisionTreeClassifier\n",
    "\n",
    "\n",
    "X= df[[\"age\",\"avg_glucose_level\",\"bmi\",\"ever_married_Yes\",\"heart_disease\",\"hypertension\",\"work_type_Self-employed\",\"Residence_type_Urban\",\n",
    "      \"gender_Male\",\"work_type_children\",\"smoking_status_never smoked\",\"gender_Other\",\n",
    "       \"work_type_Private\",\"smoking_status_formerly smoked\",\"smoking_status_smokes\",\"work_type_Never_worked\",]]\n",
    "y=df[\"stroke\"]\n",
    "\n",
    "\n",
    "X_train,X_test,y_train,y_test = train_test_split(X,y,test_size=0.3,random_state=2)\n",
    "\n",
    "model=DecisionTreeClassifier()\n",
    "\n",
    "model.fit(X_train,y_train)\n",
    "y_pred = model.predict(X_test)\n",
    "print(\"accuracy score is \",accuracy_score(y_pred,y_test))\n",
    "print(\"precision score is \",precision_score(y_pred,y_test))\n",
    "print(\"recall score is \",recall_score(y_pred,y_test))\n",
    "print(\"f1 score is \",f1_score(y_pred,y_test))\n",
    "\n",
    "print(confusion_matrix(y_test, y_pred))\n",
    "print(\"ROC AUC Score:\", roc_auc_score(y_test, model.predict_proba(X_test)[:,1]))\n"
   ]
  },
  {
   "cell_type": "markdown",
   "id": "42a4dd4c",
   "metadata": {
    "papermill": {
     "duration": null,
     "end_time": null,
     "exception": null,
     "start_time": null,
     "status": "pending"
    },
    "tags": []
   },
   "source": [
    "**XGBOOST (eXtreme Gradient Boosting)**"
   ]
  },
  {
   "cell_type": "code",
   "execution_count": null,
   "id": "00a88616",
   "metadata": {
    "execution": {
     "iopub.execute_input": "2025-05-08T17:41:41.573458Z",
     "iopub.status.busy": "2025-05-08T17:41:41.573145Z",
     "iopub.status.idle": "2025-05-08T17:41:41.577083Z",
     "shell.execute_reply": "2025-05-08T17:41:41.576321Z",
     "shell.execute_reply.started": "2025-05-08T17:41:41.573437Z"
    },
    "papermill": {
     "duration": null,
     "end_time": null,
     "exception": null,
     "start_time": null,
     "status": "pending"
    },
    "tags": []
   },
   "outputs": [],
   "source": [
    "#Installer xgboost si nécessaire\n",
    "\n",
    "#pip install --upgrade scikit-learn imbalanced-learn\n"
   ]
  },
  {
   "cell_type": "code",
   "execution_count": null,
   "id": "84c04475",
   "metadata": {
    "execution": {
     "iopub.execute_input": "2025-05-09T05:17:03.079615Z",
     "iopub.status.busy": "2025-05-09T05:17:03.079293Z",
     "iopub.status.idle": "2025-05-09T05:17:03.743037Z",
     "shell.execute_reply": "2025-05-09T05:17:03.742193Z",
     "shell.execute_reply.started": "2025-05-09T05:17:03.079591Z"
    },
    "papermill": {
     "duration": null,
     "end_time": null,
     "exception": null,
     "start_time": null,
     "status": "pending"
    },
    "tags": []
   },
   "outputs": [],
   "source": [
    "from xgboost import XGBClassifier\n",
    "from sklearn.model_selection import train_test_split\n",
    "\n",
    "\n",
    "X = df[[\"age\",\"avg_glucose_level\",\"bmi\",\"ever_married_Yes\",\"heart_disease\",\"hypertension\",\"work_type_Self-employed\",\n",
    "        \"Residence_type_Urban\",\"gender_Male\",\"work_type_children\",\"smoking_status_never smoked\",\"gender_Other\",\n",
    "        \"work_type_Private\",\"smoking_status_formerly smoked\",\"smoking_status_smokes\",\"work_type_Never_worked\"]]\n",
    "\n",
    "y = df[\"stroke\"]\n",
    "\n",
    "X_train, X_test, y_train, y_test = train_test_split(X, y, test_size=0.3, random_state=42)\n",
    "\n",
    "# Gérer le déséquilibre des classes \n",
    "# Calcul du ratio pour ajuster le poids de la classe minoritaire\n",
    "\n",
    "ratio = y_train.value_counts()[0] / y_train.value_counts()[1]\n",
    "\n",
    "# Créer le modèle XGBoost \n",
    "model = XGBClassifier(\n",
    "    scale_pos_weight=ratio,\n",
    "    use_label_encoder=False,\n",
    "    eval_metric='logloss',\n",
    "    random_state=42\n",
    ")\n",
    "\n",
    "model.fit(X_train, y_train)\n",
    "\n",
    "# Prédictions \n",
    "y_proba = model.predict_proba(X_test)[:, 1]\n",
    "threshold = 0.3  # 🔧 Tu peux ajuster ce seuil\n",
    "y_pred = (y_proba >= threshold).astype(int)\n",
    "\n",
    "# Évaluation \n",
    "print(\"accuracy score is \", accuracy_score(y_test, y_pred))\n",
    "print(\"precision score is \", precision_score(y_test, y_pred))\n",
    "print(\"recall score is \", recall_score(y_test, y_pred))\n",
    "print(\"f1 score is \", f1_score(y_test, y_pred))\n",
    "print(\"confusion matrix:\\n\", confusion_matrix(y_test, y_pred))\n",
    "print(\"ROC AUC Score:\", roc_auc_score(y_test, y_proba))\n"
   ]
  }
 ],
 "metadata": {
  "kaggle": {
   "accelerator": "none",
   "dataSources": [
    {
     "datasetId": 3693593,
     "sourceId": 7999895,
     "sourceType": "datasetVersion"
    },
    {
     "datasetId": 3695918,
     "sourceId": 9621147,
     "sourceType": "datasetVersion"
    }
   ],
   "dockerImageVersionId": 31012,
   "isGpuEnabled": false,
   "isInternetEnabled": true,
   "language": "python",
   "sourceType": "notebook"
  },
  "kernelspec": {
   "display_name": "Python 3",
   "language": "python",
   "name": "python3"
  },
  "language_info": {
   "codemirror_mode": {
    "name": "ipython",
    "version": 3
   },
   "file_extension": ".py",
   "mimetype": "text/x-python",
   "name": "python",
   "nbconvert_exporter": "python",
   "pygments_lexer": "ipython3",
   "version": "3.11.11"
  },
  "papermill": {
   "default_parameters": {},
   "duration": 18.437613,
   "end_time": "2025-05-09T05:32:45.016403",
   "environment_variables": {},
   "exception": true,
   "input_path": "__notebook__.ipynb",
   "output_path": "__notebook__.ipynb",
   "parameters": {},
   "start_time": "2025-05-09T05:32:26.578790",
   "version": "2.6.0"
  }
 },
 "nbformat": 4,
 "nbformat_minor": 5
}
